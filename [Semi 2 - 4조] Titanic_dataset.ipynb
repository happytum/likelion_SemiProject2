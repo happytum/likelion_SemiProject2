{
 "cells": [
  {
   "cell_type": "code",
   "execution_count": 2,
   "metadata": {
    "colab": {},
    "colab_type": "code",
    "id": "zKbTYjWpx03n"
   },
   "outputs": [],
   "source": [
    "import warnings\n",
    "warnings.filterwarnings(\"ignore\")\n",
    "\n",
    "import pandas as pd\n",
    "import numpy as np\n",
    "import matplotlib.pyplot as plt\n",
    "import seaborn as sns\n",
    "\n",
    "from collections import Counter \n",
    "import re\n",
    "import random\n",
    "\n",
    "from sklearn.preprocessing import OneHotEncoder\n",
    "# import custom_mglearn\n",
    "# from sklearn import ?\n",
    "# from sklearn.metrics import ?"
   ]
  },
  {
   "cell_type": "markdown",
   "metadata": {},
   "source": [
    "<br>\n",
    "\n",
    "## 1. Preparing dataset (2번부터 실습 진행)"
   ]
  },
  {
   "cell_type": "code",
   "execution_count": 3,
   "metadata": {
    "scrolled": true
   },
   "outputs": [
    {
     "data": {
      "text/html": [
       "<div>\n",
       "<style scoped>\n",
       "    .dataframe tbody tr th:only-of-type {\n",
       "        vertical-align: middle;\n",
       "    }\n",
       "\n",
       "    .dataframe tbody tr th {\n",
       "        vertical-align: top;\n",
       "    }\n",
       "\n",
       "    .dataframe thead th {\n",
       "        text-align: right;\n",
       "    }\n",
       "</style>\n",
       "<table border=\"1\" class=\"dataframe\">\n",
       "  <thead>\n",
       "    <tr style=\"text-align: right;\">\n",
       "      <th></th>\n",
       "      <th>PassengerId</th>\n",
       "      <th>Survived</th>\n",
       "      <th>Pclass</th>\n",
       "      <th>Name</th>\n",
       "      <th>Sex</th>\n",
       "      <th>Age</th>\n",
       "      <th>SibSp</th>\n",
       "      <th>Parch</th>\n",
       "      <th>Ticket</th>\n",
       "      <th>Fare</th>\n",
       "      <th>Cabin</th>\n",
       "      <th>Embarked</th>\n",
       "    </tr>\n",
       "  </thead>\n",
       "  <tbody>\n",
       "    <tr>\n",
       "      <th>0</th>\n",
       "      <td>1</td>\n",
       "      <td>0</td>\n",
       "      <td>3</td>\n",
       "      <td>Braund, Mr. Owen Harris</td>\n",
       "      <td>male</td>\n",
       "      <td>22.0</td>\n",
       "      <td>1</td>\n",
       "      <td>0</td>\n",
       "      <td>A/5 21171</td>\n",
       "      <td>7.2500</td>\n",
       "      <td>NaN</td>\n",
       "      <td>S</td>\n",
       "    </tr>\n",
       "    <tr>\n",
       "      <th>1</th>\n",
       "      <td>2</td>\n",
       "      <td>1</td>\n",
       "      <td>1</td>\n",
       "      <td>Cumings, Mrs. John Bradley (Florence Briggs Th...</td>\n",
       "      <td>female</td>\n",
       "      <td>38.0</td>\n",
       "      <td>1</td>\n",
       "      <td>0</td>\n",
       "      <td>PC 17599</td>\n",
       "      <td>71.2833</td>\n",
       "      <td>C85</td>\n",
       "      <td>C</td>\n",
       "    </tr>\n",
       "    <tr>\n",
       "      <th>2</th>\n",
       "      <td>3</td>\n",
       "      <td>1</td>\n",
       "      <td>3</td>\n",
       "      <td>Heikkinen, Miss. Laina</td>\n",
       "      <td>female</td>\n",
       "      <td>26.0</td>\n",
       "      <td>0</td>\n",
       "      <td>0</td>\n",
       "      <td>STON/O2. 3101282</td>\n",
       "      <td>7.9250</td>\n",
       "      <td>NaN</td>\n",
       "      <td>S</td>\n",
       "    </tr>\n",
       "  </tbody>\n",
       "</table>\n",
       "</div>"
      ],
      "text/plain": [
       "   PassengerId  Survived  Pclass  \\\n",
       "0            1         0       3   \n",
       "1            2         1       1   \n",
       "2            3         1       3   \n",
       "\n",
       "                                                Name     Sex   Age  SibSp  \\\n",
       "0                            Braund, Mr. Owen Harris    male  22.0      1   \n",
       "1  Cumings, Mrs. John Bradley (Florence Briggs Th...  female  38.0      1   \n",
       "2                             Heikkinen, Miss. Laina  female  26.0      0   \n",
       "\n",
       "   Parch            Ticket     Fare Cabin Embarked  \n",
       "0      0         A/5 21171   7.2500   NaN        S  \n",
       "1      0          PC 17599  71.2833   C85        C  \n",
       "2      0  STON/O2. 3101282   7.9250   NaN        S  "
      ]
     },
     "execution_count": 3,
     "metadata": {},
     "output_type": "execute_result"
    }
   ],
   "source": [
    "data_df = pd.read_csv('titanic.csv')\n",
    "data_df.head(3)"
   ]
  },
  {
   "cell_type": "markdown",
   "metadata": {},
   "source": [
    "## 1-1. 항목별 생존 비율 시각화를 통한 데이터 둘러보기"
   ]
  },
  {
   "cell_type": "markdown",
   "metadata": {},
   "source": [
    "### A. Age - Survived"
   ]
  },
  {
   "cell_type": "code",
   "execution_count": 4,
   "metadata": {},
   "outputs": [
    {
     "data": {
      "text/plain": [
       "80.0"
      ]
     },
     "execution_count": 4,
     "metadata": {},
     "output_type": "execute_result"
    }
   ],
   "source": [
    "data_df['Age'].max()"
   ]
  },
  {
   "cell_type": "code",
   "execution_count": 5,
   "metadata": {},
   "outputs": [
    {
     "data": {
      "text/plain": [
       "Text(0.5, 1.0, 'Age Frequency')"
      ]
     },
     "execution_count": 5,
     "metadata": {},
     "output_type": "execute_result"
    },
    {
     "data": {
      "image/png": "[encoded data removed]",
      "text/plain": [
       "<Figure size 432x288 with 1 Axes>"
      ]
     },
     "metadata": {
      "needs_background": "light"
     },
     "output_type": "display_data"
    }
   ],
   "source": [
    "# age_hist = data_df['Age'].plot(kind='hist', figsize=(6,6))\n",
    "age_hist = plt.hist(data_df['Age'], bins=10)\n",
    "plt.xlabel('Age')\n",
    "plt.ylabel('Frequency')\n",
    "plt.title('Age Frequency')"
   ]
  },
  {
   "cell_type": "code",
   "execution_count": 6,
   "metadata": {
    "scrolled": true
   },
   "outputs": [],
   "source": [
    "# Age 를 20세별로 묶어서 dataframe 에 새로 추가하기\n",
    "\n",
    "# 방법 1 - 반복문 돌려 새 열에 값 할당하기\n",
    "\n",
    "data_df['Age_range_20'] = ''\n",
    "\n",
    "for idx, age in enumerate(data_df['Age']):\n",
    "    if age >= 60:\n",
    "        data_df.at[idx, 'Age_range_20'] = '60+'\n",
    "    elif age >= 40:\n",
    "        data_df.at[idx, 'Age_range_20'] = '4050'\n",
    "    elif age >= 20:\n",
    "        data_df.at[idx, 'Age_range_20'] = '2030'    \n",
    "    elif age >= 0:\n",
    "        data_df.at[idx, 'Age_range_20'] = '0010'\n",
    "    else:\n",
    "        data_df.at[idx, 'Age_range_20'] = 'Null'"
   ]
  },
  {
   "cell_type": "code",
   "execution_count": 7,
   "metadata": {
    "scrolled": true
   },
   "outputs": [
    {
     "data": {
      "image/png": "[encoded data removed]",
      "text/plain": [
       "<Figure size 360x360 with 1 Axes>"
      ]
     },
     "metadata": {
      "needs_background": "light"
     },
     "output_type": "display_data"
    }
   ],
   "source": [
    "# 연령 20세 단위 구간별 생존자, 사망자 수 구하기\n",
    "\n",
    "def survived_graph(value):\n",
    "    survived = data_df[data_df['Survived']==1][value].value_counts()\n",
    "    dead = data_df[data_df['Survived']==0][value].value_counts()\n",
    "    df = pd.DataFrame([survived, dead])\n",
    "    df.index = ['Survived', 'Dead']\n",
    "    df.plot(kind='bar', stacked=True, figsize=(5,5))\n",
    "    \n",
    "survived_graph('Age_range_20')"
   ]
  },
  {
   "cell_type": "code",
   "execution_count": 8,
   "metadata": {
    "scrolled": true
   },
   "outputs": [
    {
     "data": {
      "text/html": [
       "<div>\n",
       "<style scoped>\n",
       "    .dataframe tbody tr th:only-of-type {\n",
       "        vertical-align: middle;\n",
       "    }\n",
       "\n",
       "    .dataframe tbody tr th {\n",
       "        vertical-align: top;\n",
       "    }\n",
       "\n",
       "    .dataframe thead th {\n",
       "        text-align: right;\n",
       "    }\n",
       "</style>\n",
       "<table border=\"1\" class=\"dataframe\">\n",
       "  <thead>\n",
       "    <tr style=\"text-align: right;\">\n",
       "      <th></th>\n",
       "      <th>PassengerId</th>\n",
       "      <th>Survived</th>\n",
       "      <th>Pclass</th>\n",
       "      <th>Name</th>\n",
       "      <th>Sex</th>\n",
       "      <th>Age</th>\n",
       "      <th>SibSp</th>\n",
       "      <th>Parch</th>\n",
       "      <th>Ticket</th>\n",
       "      <th>Fare</th>\n",
       "      <th>Cabin</th>\n",
       "      <th>Embarked</th>\n",
       "      <th>Age_range_20</th>\n",
       "      <th>Age_range_10</th>\n",
       "    </tr>\n",
       "  </thead>\n",
       "  <tbody>\n",
       "    <tr>\n",
       "      <th>33</th>\n",
       "      <td>34</td>\n",
       "      <td>0</td>\n",
       "      <td>2</td>\n",
       "      <td>Wheadon, Mr. Edward H</td>\n",
       "      <td>male</td>\n",
       "      <td>66.0</td>\n",
       "      <td>0</td>\n",
       "      <td>0</td>\n",
       "      <td>C.A. 24579</td>\n",
       "      <td>10.5000</td>\n",
       "      <td>NaN</td>\n",
       "      <td>S</td>\n",
       "      <td>60+</td>\n",
       "      <td>over 60</td>\n",
       "    </tr>\n",
       "    <tr>\n",
       "      <th>54</th>\n",
       "      <td>55</td>\n",
       "      <td>0</td>\n",
       "      <td>1</td>\n",
       "      <td>Ostby, Mr. Engelhart Cornelius</td>\n",
       "      <td>male</td>\n",
       "      <td>65.0</td>\n",
       "      <td>0</td>\n",
       "      <td>1</td>\n",
       "      <td>113509</td>\n",
       "      <td>61.9792</td>\n",
       "      <td>B30</td>\n",
       "      <td>C</td>\n",
       "      <td>60+</td>\n",
       "      <td>over 60</td>\n",
       "    </tr>\n",
       "    <tr>\n",
       "      <th>96</th>\n",
       "      <td>97</td>\n",
       "      <td>0</td>\n",
       "      <td>1</td>\n",
       "      <td>Goldschmidt, Mr. George B</td>\n",
       "      <td>male</td>\n",
       "      <td>71.0</td>\n",
       "      <td>0</td>\n",
       "      <td>0</td>\n",
       "      <td>PC 17754</td>\n",
       "      <td>34.6542</td>\n",
       "      <td>A5</td>\n",
       "      <td>C</td>\n",
       "      <td>60+</td>\n",
       "      <td>over 60</td>\n",
       "    </tr>\n",
       "    <tr>\n",
       "      <th>116</th>\n",
       "      <td>117</td>\n",
       "      <td>0</td>\n",
       "      <td>3</td>\n",
       "      <td>Connors, Mr. Patrick</td>\n",
       "      <td>male</td>\n",
       "      <td>70.5</td>\n",
       "      <td>0</td>\n",
       "      <td>0</td>\n",
       "      <td>370369</td>\n",
       "      <td>7.7500</td>\n",
       "      <td>NaN</td>\n",
       "      <td>Q</td>\n",
       "      <td>60+</td>\n",
       "      <td>over 60</td>\n",
       "    </tr>\n",
       "    <tr>\n",
       "      <th>170</th>\n",
       "      <td>171</td>\n",
       "      <td>0</td>\n",
       "      <td>1</td>\n",
       "      <td>Van der hoef, Mr. Wyckoff</td>\n",
       "      <td>male</td>\n",
       "      <td>61.0</td>\n",
       "      <td>0</td>\n",
       "      <td>0</td>\n",
       "      <td>111240</td>\n",
       "      <td>33.5000</td>\n",
       "      <td>B19</td>\n",
       "      <td>S</td>\n",
       "      <td>60+</td>\n",
       "      <td>over 60</td>\n",
       "    </tr>\n",
       "    <tr>\n",
       "      <th>252</th>\n",
       "      <td>253</td>\n",
       "      <td>0</td>\n",
       "      <td>1</td>\n",
       "      <td>Stead, Mr. William Thomas</td>\n",
       "      <td>male</td>\n",
       "      <td>62.0</td>\n",
       "      <td>0</td>\n",
       "      <td>0</td>\n",
       "      <td>113514</td>\n",
       "      <td>26.5500</td>\n",
       "      <td>C87</td>\n",
       "      <td>S</td>\n",
       "      <td>60+</td>\n",
       "      <td>over 60</td>\n",
       "    </tr>\n",
       "    <tr>\n",
       "      <th>275</th>\n",
       "      <td>276</td>\n",
       "      <td>1</td>\n",
       "      <td>1</td>\n",
       "      <td>Andrews, Miss. Kornelia Theodosia</td>\n",
       "      <td>female</td>\n",
       "      <td>63.0</td>\n",
       "      <td>1</td>\n",
       "      <td>0</td>\n",
       "      <td>13502</td>\n",
       "      <td>77.9583</td>\n",
       "      <td>D7</td>\n",
       "      <td>S</td>\n",
       "      <td>60+</td>\n",
       "      <td>over 60</td>\n",
       "    </tr>\n",
       "    <tr>\n",
       "      <th>280</th>\n",
       "      <td>281</td>\n",
       "      <td>0</td>\n",
       "      <td>3</td>\n",
       "      <td>Duane, Mr. Frank</td>\n",
       "      <td>male</td>\n",
       "      <td>65.0</td>\n",
       "      <td>0</td>\n",
       "      <td>0</td>\n",
       "      <td>336439</td>\n",
       "      <td>7.7500</td>\n",
       "      <td>NaN</td>\n",
       "      <td>Q</td>\n",
       "      <td>60+</td>\n",
       "      <td>over 60</td>\n",
       "    </tr>\n",
       "    <tr>\n",
       "      <th>326</th>\n",
       "      <td>327</td>\n",
       "      <td>0</td>\n",
       "      <td>3</td>\n",
       "      <td>Nysveen, Mr. Johan Hansen</td>\n",
       "      <td>male</td>\n",
       "      <td>61.0</td>\n",
       "      <td>0</td>\n",
       "      <td>0</td>\n",
       "      <td>345364</td>\n",
       "      <td>6.2375</td>\n",
       "      <td>NaN</td>\n",
       "      <td>S</td>\n",
       "      <td>60+</td>\n",
       "      <td>over 60</td>\n",
       "    </tr>\n",
       "    <tr>\n",
       "      <th>366</th>\n",
       "      <td>367</td>\n",
       "      <td>1</td>\n",
       "      <td>1</td>\n",
       "      <td>Warren, Mrs. Frank Manley (Anna Sophia Atkinson)</td>\n",
       "      <td>female</td>\n",
       "      <td>60.0</td>\n",
       "      <td>1</td>\n",
       "      <td>0</td>\n",
       "      <td>110813</td>\n",
       "      <td>75.2500</td>\n",
       "      <td>D37</td>\n",
       "      <td>C</td>\n",
       "      <td>60+</td>\n",
       "      <td>over 60</td>\n",
       "    </tr>\n",
       "    <tr>\n",
       "      <th>438</th>\n",
       "      <td>439</td>\n",
       "      <td>0</td>\n",
       "      <td>1</td>\n",
       "      <td>Fortune, Mr. Mark</td>\n",
       "      <td>male</td>\n",
       "      <td>64.0</td>\n",
       "      <td>1</td>\n",
       "      <td>4</td>\n",
       "      <td>19950</td>\n",
       "      <td>263.0000</td>\n",
       "      <td>C23 C25 C27</td>\n",
       "      <td>S</td>\n",
       "      <td>60+</td>\n",
       "      <td>over 60</td>\n",
       "    </tr>\n",
       "    <tr>\n",
       "      <th>456</th>\n",
       "      <td>457</td>\n",
       "      <td>0</td>\n",
       "      <td>1</td>\n",
       "      <td>Millet, Mr. Francis Davis</td>\n",
       "      <td>male</td>\n",
       "      <td>65.0</td>\n",
       "      <td>0</td>\n",
       "      <td>0</td>\n",
       "      <td>13509</td>\n",
       "      <td>26.5500</td>\n",
       "      <td>E38</td>\n",
       "      <td>S</td>\n",
       "      <td>60+</td>\n",
       "      <td>over 60</td>\n",
       "    </tr>\n",
       "    <tr>\n",
       "      <th>483</th>\n",
       "      <td>484</td>\n",
       "      <td>1</td>\n",
       "      <td>3</td>\n",
       "      <td>Turkula, Mrs. (Hedwig)</td>\n",
       "      <td>female</td>\n",
       "      <td>63.0</td>\n",
       "      <td>0</td>\n",
       "      <td>0</td>\n",
       "      <td>4134</td>\n",
       "      <td>9.5875</td>\n",
       "      <td>NaN</td>\n",
       "      <td>S</td>\n",
       "      <td>60+</td>\n",
       "      <td>over 60</td>\n",
       "    </tr>\n",
       "    <tr>\n",
       "      <th>493</th>\n",
       "      <td>494</td>\n",
       "      <td>0</td>\n",
       "      <td>1</td>\n",
       "      <td>Artagaveytia, Mr. Ramon</td>\n",
       "      <td>male</td>\n",
       "      <td>71.0</td>\n",
       "      <td>0</td>\n",
       "      <td>0</td>\n",
       "      <td>PC 17609</td>\n",
       "      <td>49.5042</td>\n",
       "      <td>NaN</td>\n",
       "      <td>C</td>\n",
       "      <td>60+</td>\n",
       "      <td>over 60</td>\n",
       "    </tr>\n",
       "    <tr>\n",
       "      <th>545</th>\n",
       "      <td>546</td>\n",
       "      <td>0</td>\n",
       "      <td>1</td>\n",
       "      <td>Nicholson, Mr. Arthur Ernest</td>\n",
       "      <td>male</td>\n",
       "      <td>64.0</td>\n",
       "      <td>0</td>\n",
       "      <td>0</td>\n",
       "      <td>693</td>\n",
       "      <td>26.0000</td>\n",
       "      <td>NaN</td>\n",
       "      <td>S</td>\n",
       "      <td>60+</td>\n",
       "      <td>over 60</td>\n",
       "    </tr>\n",
       "    <tr>\n",
       "      <th>555</th>\n",
       "      <td>556</td>\n",
       "      <td>0</td>\n",
       "      <td>1</td>\n",
       "      <td>Wright, Mr. George</td>\n",
       "      <td>male</td>\n",
       "      <td>62.0</td>\n",
       "      <td>0</td>\n",
       "      <td>0</td>\n",
       "      <td>113807</td>\n",
       "      <td>26.5500</td>\n",
       "      <td>NaN</td>\n",
       "      <td>S</td>\n",
       "      <td>60+</td>\n",
       "      <td>over 60</td>\n",
       "    </tr>\n",
       "    <tr>\n",
       "      <th>570</th>\n",
       "      <td>571</td>\n",
       "      <td>1</td>\n",
       "      <td>2</td>\n",
       "      <td>Harris, Mr. George</td>\n",
       "      <td>male</td>\n",
       "      <td>62.0</td>\n",
       "      <td>0</td>\n",
       "      <td>0</td>\n",
       "      <td>S.W./PP 752</td>\n",
       "      <td>10.5000</td>\n",
       "      <td>NaN</td>\n",
       "      <td>S</td>\n",
       "      <td>60+</td>\n",
       "      <td>over 60</td>\n",
       "    </tr>\n",
       "    <tr>\n",
       "      <th>587</th>\n",
       "      <td>588</td>\n",
       "      <td>1</td>\n",
       "      <td>1</td>\n",
       "      <td>Frolicher-Stehli, Mr. Maxmillian</td>\n",
       "      <td>male</td>\n",
       "      <td>60.0</td>\n",
       "      <td>1</td>\n",
       "      <td>1</td>\n",
       "      <td>13567</td>\n",
       "      <td>79.2000</td>\n",
       "      <td>B41</td>\n",
       "      <td>C</td>\n",
       "      <td>60+</td>\n",
       "      <td>over 60</td>\n",
       "    </tr>\n",
       "    <tr>\n",
       "      <th>625</th>\n",
       "      <td>626</td>\n",
       "      <td>0</td>\n",
       "      <td>1</td>\n",
       "      <td>Sutton, Mr. Frederick</td>\n",
       "      <td>male</td>\n",
       "      <td>61.0</td>\n",
       "      <td>0</td>\n",
       "      <td>0</td>\n",
       "      <td>36963</td>\n",
       "      <td>32.3208</td>\n",
       "      <td>D50</td>\n",
       "      <td>S</td>\n",
       "      <td>60+</td>\n",
       "      <td>over 60</td>\n",
       "    </tr>\n",
       "    <tr>\n",
       "      <th>630</th>\n",
       "      <td>631</td>\n",
       "      <td>1</td>\n",
       "      <td>1</td>\n",
       "      <td>Barkworth, Mr. Algernon Henry Wilson</td>\n",
       "      <td>male</td>\n",
       "      <td>80.0</td>\n",
       "      <td>0</td>\n",
       "      <td>0</td>\n",
       "      <td>27042</td>\n",
       "      <td>30.0000</td>\n",
       "      <td>A23</td>\n",
       "      <td>S</td>\n",
       "      <td>60+</td>\n",
       "      <td>over 60</td>\n",
       "    </tr>\n",
       "    <tr>\n",
       "      <th>672</th>\n",
       "      <td>673</td>\n",
       "      <td>0</td>\n",
       "      <td>2</td>\n",
       "      <td>Mitchell, Mr. Henry Michael</td>\n",
       "      <td>male</td>\n",
       "      <td>70.0</td>\n",
       "      <td>0</td>\n",
       "      <td>0</td>\n",
       "      <td>C.A. 24580</td>\n",
       "      <td>10.5000</td>\n",
       "      <td>NaN</td>\n",
       "      <td>S</td>\n",
       "      <td>60+</td>\n",
       "      <td>over 60</td>\n",
       "    </tr>\n",
       "    <tr>\n",
       "      <th>684</th>\n",
       "      <td>685</td>\n",
       "      <td>0</td>\n",
       "      <td>2</td>\n",
       "      <td>Brown, Mr. Thomas William Solomon</td>\n",
       "      <td>male</td>\n",
       "      <td>60.0</td>\n",
       "      <td>1</td>\n",
       "      <td>1</td>\n",
       "      <td>29750</td>\n",
       "      <td>39.0000</td>\n",
       "      <td>NaN</td>\n",
       "      <td>S</td>\n",
       "      <td>60+</td>\n",
       "      <td>over 60</td>\n",
       "    </tr>\n",
       "    <tr>\n",
       "      <th>694</th>\n",
       "      <td>695</td>\n",
       "      <td>0</td>\n",
       "      <td>1</td>\n",
       "      <td>Weir, Col. John</td>\n",
       "      <td>male</td>\n",
       "      <td>60.0</td>\n",
       "      <td>0</td>\n",
       "      <td>0</td>\n",
       "      <td>113800</td>\n",
       "      <td>26.5500</td>\n",
       "      <td>NaN</td>\n",
       "      <td>S</td>\n",
       "      <td>60+</td>\n",
       "      <td>over 60</td>\n",
       "    </tr>\n",
       "    <tr>\n",
       "      <th>745</th>\n",
       "      <td>746</td>\n",
       "      <td>0</td>\n",
       "      <td>1</td>\n",
       "      <td>Crosby, Capt. Edward Gifford</td>\n",
       "      <td>male</td>\n",
       "      <td>70.0</td>\n",
       "      <td>1</td>\n",
       "      <td>1</td>\n",
       "      <td>WE/P 5735</td>\n",
       "      <td>71.0000</td>\n",
       "      <td>B22</td>\n",
       "      <td>S</td>\n",
       "      <td>60+</td>\n",
       "      <td>over 60</td>\n",
       "    </tr>\n",
       "    <tr>\n",
       "      <th>829</th>\n",
       "      <td>830</td>\n",
       "      <td>1</td>\n",
       "      <td>1</td>\n",
       "      <td>Stone, Mrs. George Nelson (Martha Evelyn)</td>\n",
       "      <td>female</td>\n",
       "      <td>62.0</td>\n",
       "      <td>0</td>\n",
       "      <td>0</td>\n",
       "      <td>113572</td>\n",
       "      <td>80.0000</td>\n",
       "      <td>B28</td>\n",
       "      <td>NaN</td>\n",
       "      <td>60+</td>\n",
       "      <td>over 60</td>\n",
       "    </tr>\n",
       "    <tr>\n",
       "      <th>851</th>\n",
       "      <td>852</td>\n",
       "      <td>0</td>\n",
       "      <td>3</td>\n",
       "      <td>Svensson, Mr. Johan</td>\n",
       "      <td>male</td>\n",
       "      <td>74.0</td>\n",
       "      <td>0</td>\n",
       "      <td>0</td>\n",
       "      <td>347060</td>\n",
       "      <td>7.7750</td>\n",
       "      <td>NaN</td>\n",
       "      <td>S</td>\n",
       "      <td>60+</td>\n",
       "      <td>over 60</td>\n",
       "    </tr>\n",
       "  </tbody>\n",
       "</table>\n",
       "</div>"
      ],
      "text/plain": [
       "     PassengerId  Survived  Pclass  \\\n",
       "33            34         0       2   \n",
       "54            55         0       1   \n",
       "96            97         0       1   \n",
       "116          117         0       3   \n",
       "170          171         0       1   \n",
       "252          253         0       1   \n",
       "275          276         1       1   \n",
       "280          281         0       3   \n",
       "326          327         0       3   \n",
       "366          367         1       1   \n",
       "438          439         0       1   \n",
       "456          457         0       1   \n",
       "483          484         1       3   \n",
       "493          494         0       1   \n",
       "545          546         0       1   \n",
       "555          556         0       1   \n",
       "570          571         1       2   \n",
       "587          588         1       1   \n",
       "625          626         0       1   \n",
       "630          631         1       1   \n",
       "672          673         0       2   \n",
       "684          685         0       2   \n",
       "694          695         0       1   \n",
       "745          746         0       1   \n",
       "829          830         1       1   \n",
       "851          852         0       3   \n",
       "\n",
       "                                                 Name     Sex   Age  SibSp  \\\n",
       "33                              Wheadon, Mr. Edward H    male  66.0      0   \n",
       "54                     Ostby, Mr. Engelhart Cornelius    male  65.0      0   \n",
       "96                          Goldschmidt, Mr. George B    male  71.0      0   \n",
       "116                              Connors, Mr. Patrick    male  70.5      0   \n",
       "170                         Van der hoef, Mr. Wyckoff    male  61.0      0   \n",
       "252                         Stead, Mr. William Thomas    male  62.0      0   \n",
       "275                 Andrews, Miss. Kornelia Theodosia  female  63.0      1   \n",
       "280                                  Duane, Mr. Frank    male  65.0      0   \n",
       "326                         Nysveen, Mr. Johan Hansen    male  61.0      0   \n",
       "366  Warren, Mrs. Frank Manley (Anna Sophia Atkinson)  female  60.0      1   \n",
       "438                                 Fortune, Mr. Mark    male  64.0      1   \n",
       "456                         Millet, Mr. Francis Davis    male  65.0      0   \n",
       "483                            Turkula, Mrs. (Hedwig)  female  63.0      0   \n",
       "493                           Artagaveytia, Mr. Ramon    male  71.0      0   \n",
       "545                      Nicholson, Mr. Arthur Ernest    male  64.0      0   \n",
       "555                                Wright, Mr. George    male  62.0      0   \n",
       "570                                Harris, Mr. George    male  62.0      0   \n",
       "587                  Frolicher-Stehli, Mr. Maxmillian    male  60.0      1   \n",
       "625                             Sutton, Mr. Frederick    male  61.0      0   \n",
       "630              Barkworth, Mr. Algernon Henry Wilson    male  80.0      0   \n",
       "672                       Mitchell, Mr. Henry Michael    male  70.0      0   \n",
       "684                 Brown, Mr. Thomas William Solomon    male  60.0      1   \n",
       "694                                   Weir, Col. John    male  60.0      0   \n",
       "745                      Crosby, Capt. Edward Gifford    male  70.0      1   \n",
       "829         Stone, Mrs. George Nelson (Martha Evelyn)  female  62.0      0   \n",
       "851                               Svensson, Mr. Johan    male  74.0      0   \n",
       "\n",
       "     Parch       Ticket      Fare        Cabin Embarked Age_range_20  \\\n",
       "33       0   C.A. 24579   10.5000          NaN        S          60+   \n",
       "54       1       113509   61.9792          B30        C          60+   \n",
       "96       0     PC 17754   34.6542           A5        C          60+   \n",
       "116      0       370369    7.7500          NaN        Q          60+   \n",
       "170      0       111240   33.5000          B19        S          60+   \n",
       "252      0       113514   26.5500          C87        S          60+   \n",
       "275      0        13502   77.9583           D7        S          60+   \n",
       "280      0       336439    7.7500          NaN        Q          60+   \n",
       "326      0       345364    6.2375          NaN        S          60+   \n",
       "366      0       110813   75.2500          D37        C          60+   \n",
       "438      4        19950  263.0000  C23 C25 C27        S          60+   \n",
       "456      0        13509   26.5500          E38        S          60+   \n",
       "483      0         4134    9.5875          NaN        S          60+   \n",
       "493      0     PC 17609   49.5042          NaN        C          60+   \n",
       "545      0          693   26.0000          NaN        S          60+   \n",
       "555      0       113807   26.5500          NaN        S          60+   \n",
       "570      0  S.W./PP 752   10.5000          NaN        S          60+   \n",
       "587      1        13567   79.2000          B41        C          60+   \n",
       "625      0        36963   32.3208          D50        S          60+   \n",
       "630      0        27042   30.0000          A23        S          60+   \n",
       "672      0   C.A. 24580   10.5000          NaN        S          60+   \n",
       "684      1        29750   39.0000          NaN        S          60+   \n",
       "694      0       113800   26.5500          NaN        S          60+   \n",
       "745      1    WE/P 5735   71.0000          B22        S          60+   \n",
       "829      0       113572   80.0000          B28      NaN          60+   \n",
       "851      0       347060    7.7750          NaN        S          60+   \n",
       "\n",
       "    Age_range_10  \n",
       "33       over 60  \n",
       "54       over 60  \n",
       "96       over 60  \n",
       "116      over 60  \n",
       "170      over 60  \n",
       "252      over 60  \n",
       "275      over 60  \n",
       "280      over 60  \n",
       "326      over 60  \n",
       "366      over 60  \n",
       "438      over 60  \n",
       "456      over 60  \n",
       "483      over 60  \n",
       "493      over 60  \n",
       "545      over 60  \n",
       "555      over 60  \n",
       "570      over 60  \n",
       "587      over 60  \n",
       "625      over 60  \n",
       "630      over 60  \n",
       "672      over 60  \n",
       "684      over 60  \n",
       "694      over 60  \n",
       "745      over 60  \n",
       "829      over 60  \n",
       "851      over 60  "
      ]
     },
     "execution_count": 8,
     "metadata": {},
     "output_type": "execute_result"
    }
   ],
   "source": [
    "# 방법 2 - .cut() 함수 사용해서 10세별로 묶기\n",
    "\n",
    "bins = list(range(0, 100, 10))\n",
    "age_groups = [str(x) + ' to ' + str(x+9) for x in bins]\n",
    "\n",
    "data_df['Age_range_10'] = pd.cut(data_df['Age'], bins, right=False, labels = age_groups[:-1], include_lowest = True)\n",
    "\n",
    "# 60 세 이상 연령 묶기\n",
    "\n",
    "data_df.replace(to_replace = age_groups[6:], value = 'over 60', inplace=True)\n",
    "data_df [(data_df['Age_range_10'] == 'over 60') ]"
   ]
  },
  {
   "cell_type": "code",
   "execution_count": 9,
   "metadata": {},
   "outputs": [
    {
     "data": {
      "image/png": "[encoded data removed]",
      "text/plain": [
       "<Figure size 360x360 with 1 Axes>"
      ]
     },
     "metadata": {
      "needs_background": "light"
     },
     "output_type": "display_data"
    }
   ],
   "source": [
    "# 연령 10세 단위 구간별 생존자, 사망자 수 구하기\n",
    "\n",
    "survived_graph('Age_range_10')"
   ]
  },
  {
   "cell_type": "code",
   "execution_count": 10,
   "metadata": {},
   "outputs": [
    {
     "data": {
      "text/html": [
       "<div>\n",
       "<style scoped>\n",
       "    .dataframe tbody tr th:only-of-type {\n",
       "        vertical-align: middle;\n",
       "    }\n",
       "\n",
       "    .dataframe tbody tr th {\n",
       "        vertical-align: top;\n",
       "    }\n",
       "\n",
       "    .dataframe thead th {\n",
       "        text-align: right;\n",
       "    }\n",
       "</style>\n",
       "<table border=\"1\" class=\"dataframe\">\n",
       "  <thead>\n",
       "    <tr style=\"text-align: right;\">\n",
       "      <th></th>\n",
       "      <th>survivalrate</th>\n",
       "    </tr>\n",
       "    <tr>\n",
       "      <th>Age_range_10</th>\n",
       "      <th></th>\n",
       "    </tr>\n",
       "  </thead>\n",
       "  <tbody>\n",
       "    <tr>\n",
       "      <th>0 to 9</th>\n",
       "      <td>0.612903</td>\n",
       "    </tr>\n",
       "    <tr>\n",
       "      <th>10 to 19</th>\n",
       "      <td>0.401961</td>\n",
       "    </tr>\n",
       "    <tr>\n",
       "      <th>20 to 29</th>\n",
       "      <td>0.350000</td>\n",
       "    </tr>\n",
       "    <tr>\n",
       "      <th>30 to 39</th>\n",
       "      <td>0.437126</td>\n",
       "    </tr>\n",
       "    <tr>\n",
       "      <th>40 to 49</th>\n",
       "      <td>0.382022</td>\n",
       "    </tr>\n",
       "    <tr>\n",
       "      <th>50 to 59</th>\n",
       "      <td>0.416667</td>\n",
       "    </tr>\n",
       "    <tr>\n",
       "      <th>over 60</th>\n",
       "      <td>0.269231</td>\n",
       "    </tr>\n",
       "  </tbody>\n",
       "</table>\n",
       "</div>"
      ],
      "text/plain": [
       "              survivalrate\n",
       "Age_range_10              \n",
       "0 to 9            0.612903\n",
       "10 to 19          0.401961\n",
       "20 to 29          0.350000\n",
       "30 to 39          0.437126\n",
       "40 to 49          0.382022\n",
       "50 to 59          0.416667\n",
       "over 60           0.269231"
      ]
     },
     "execution_count": 10,
     "metadata": {},
     "output_type": "execute_result"
    }
   ],
   "source": [
    "# 연령별 생존율 구하기\n",
    "\n",
    "grouped = data_df.groupby(data_df['Age_range_10'])\n",
    "surv_rate_age = grouped.sum().Survived / grouped.size()\n",
    "surv_df = pd.DataFrame(surv_rate_age, columns=['survivalrate'])\n",
    "surv_df"
   ]
  },
  {
   "cell_type": "markdown",
   "metadata": {},
   "source": [
    "### B. Name(Title) - Survived"
   ]
  },
  {
   "cell_type": "code",
   "execution_count": 11,
   "metadata": {},
   "outputs": [
    {
     "data": {
      "text/plain": [
       "Counter({'Mr': 517,\n",
       "         'Mrs': 125,\n",
       "         'Miss': 182,\n",
       "         'Master': 40,\n",
       "         'Don': 1,\n",
       "         'Rev': 6,\n",
       "         'Dr': 7,\n",
       "         'Mme': 1,\n",
       "         'Ms': 1,\n",
       "         'Major': 2,\n",
       "         'Lady': 1,\n",
       "         'Sir': 1,\n",
       "         'Mlle': 2,\n",
       "         'Col': 2,\n",
       "         'Capt': 1,\n",
       "         'Countess': 1,\n",
       "         'Jonkheer': 1})"
      ]
     },
     "execution_count": 11,
     "metadata": {},
     "output_type": "execute_result"
    }
   ],
   "source": [
    "# Name 에서 Title 꺼낸 열 만들기\n",
    "\n",
    "data_df['title'] = ''\n",
    "\n",
    "for idx, x in enumerate(data_df['Name']):\n",
    "    exp = re.compile(r'[A-Za-z]+\\.')\n",
    "    exp_result = exp.search(x)\n",
    "    data_df.at[idx, 'title'] = exp_result.group().replace('.', '')\n",
    "       \n",
    "dict_names = Counter(data_df['title'])\n",
    "dict_names"
   ]
  },
  {
   "cell_type": "code",
   "execution_count": 12,
   "metadata": {},
   "outputs": [],
   "source": [
    "# 소수의 title 'other' 로 묶기\n",
    "\n",
    "title_list = ['Mr', 'Mrs', 'Miss', 'Master', 'Don', 'Rev']\n",
    "\n",
    "for idx, x in enumerate(data_df['title']):\n",
    "    if x not in title_list:\n",
    "        data_df.at[idx, 'title'] = 'other'"
   ]
  },
  {
   "cell_type": "code",
   "execution_count": 13,
   "metadata": {},
   "outputs": [
    {
     "data": {
      "image/png": "[encoded data removed]",
      "text/plain": [
       "<Figure size 432x288 with 1 Axes>"
      ]
     },
     "metadata": {
      "needs_background": "light"
     },
     "output_type": "display_data"
    }
   ],
   "source": [
    "# Title 별 개수 시각화\n",
    "\n",
    "title_df = pd.DataFrame(data_df['title'])\n",
    "sns.countplot(x='title', data=title_df)\n",
    "plt.show()"
   ]
  },
  {
   "cell_type": "code",
   "execution_count": 14,
   "metadata": {
    "scrolled": true
   },
   "outputs": [
    {
     "data": {
      "image/png": "[encoded data removed]",
      "text/plain": [
       "<Figure size 360x360 with 1 Axes>"
      ]
     },
     "metadata": {
      "needs_background": "light"
     },
     "output_type": "display_data"
    }
   ],
   "source": [
    "# 앞서 만든 함수 불러와서 시각화\n",
    "    \n",
    "survived_graph('title')"
   ]
  },
  {
   "cell_type": "markdown",
   "metadata": {},
   "source": [
    "### C. Embarked - Survived"
   ]
  },
  {
   "cell_type": "code",
   "execution_count": 15,
   "metadata": {},
   "outputs": [
    {
     "data": {
      "text/plain": [
       "0    427\n",
       "1    217\n",
       "Name: Survived, dtype: int64"
      ]
     },
     "execution_count": 15,
     "metadata": {},
     "output_type": "execute_result"
    }
   ],
   "source": [
    "count=data_df.Survived[data_df.Embarked=='S'].value_counts()\n",
    "count"
   ]
  },
  {
   "cell_type": "code",
   "execution_count": 16,
   "metadata": {},
   "outputs": [
    {
     "data": {
      "text/plain": [
       "<AxesSubplot:>"
      ]
     },
     "execution_count": 16,
     "metadata": {},
     "output_type": "execute_result"
    },
    {
     "data": {
      "image/png": "[encoded data removed]",
      "text/plain": [
       "<Figure size 432x288 with 1 Axes>"
      ]
     },
     "metadata": {
      "needs_background": "light"
     },
     "output_type": "display_data"
    }
   ],
   "source": [
    "# 각 탑승객 수 시각화\n",
    "\n",
    "data_df.Embarked.value_counts().plot(kind=\"bar\")"
   ]
  },
  {
   "cell_type": "code",
   "execution_count": 17,
   "metadata": {},
   "outputs": [
    {
     "data": {
      "text/plain": [
       "<AxesSubplot:xlabel='Survived'>"
      ]
     },
     "execution_count": 17,
     "metadata": {},
     "output_type": "execute_result"
    },
    {
     "data": {
      "image/png": "[encoded data removed]",
      "text/plain": [
       "<Figure size 432x288 with 1 Axes>"
      ]
     },
     "metadata": {
      "needs_background": "light"
     },
     "output_type": "display_data"
    }
   ],
   "source": [
    "# plot(Survived -- Embarked)\n",
    "\n",
    "data_df.Survived = data_df.Survived.replace([0,1],['Death','Survived'])\n",
    "pd.crosstab(data_df.Survived, data_df.Embarked).plot.bar(stacked=True)"
   ]
  },
  {
   "cell_type": "code",
   "execution_count": 18,
   "metadata": {},
   "outputs": [
    {
     "data": {
      "text/html": [
       "<div>\n",
       "<style scoped>\n",
       "    .dataframe tbody tr th:only-of-type {\n",
       "        vertical-align: middle;\n",
       "    }\n",
       "\n",
       "    .dataframe tbody tr th {\n",
       "        vertical-align: top;\n",
       "    }\n",
       "\n",
       "    .dataframe thead th {\n",
       "        text-align: right;\n",
       "    }\n",
       "</style>\n",
       "<table border=\"1\" class=\"dataframe\">\n",
       "  <thead>\n",
       "    <tr style=\"text-align: right;\">\n",
       "      <th>Embarked</th>\n",
       "      <th>C</th>\n",
       "      <th>Q</th>\n",
       "      <th>S</th>\n",
       "    </tr>\n",
       "    <tr>\n",
       "      <th>Survived</th>\n",
       "      <th></th>\n",
       "      <th></th>\n",
       "      <th></th>\n",
       "    </tr>\n",
       "  </thead>\n",
       "  <tbody>\n",
       "    <tr>\n",
       "      <th>0</th>\n",
       "      <td>75</td>\n",
       "      <td>47</td>\n",
       "      <td>427</td>\n",
       "    </tr>\n",
       "    <tr>\n",
       "      <th>1</th>\n",
       "      <td>93</td>\n",
       "      <td>30</td>\n",
       "      <td>217</td>\n",
       "    </tr>\n",
       "  </tbody>\n",
       "</table>\n",
       "</div>"
      ],
      "text/plain": [
       "Embarked   C   Q    S\n",
       "Survived             \n",
       "0         75  47  427\n",
       "1         93  30  217"
      ]
     },
     "execution_count": 18,
     "metadata": {},
     "output_type": "execute_result"
    }
   ],
   "source": [
    "data_df.Survived = data_df.Survived.replace(['Death','Survived'],[0,1])\n",
    "ct = pd.crosstab(data_df.Survived, data_df.Embarked)\n",
    "ct"
   ]
  },
  {
   "cell_type": "code",
   "execution_count": 19,
   "metadata": {},
   "outputs": [],
   "source": [
    "# get surv_rate, dead_rate\n",
    "\n",
    "def rating(df):\n",
    "    \n",
    "    col_n = len(df.columns) #3 -> 0,1,2\n",
    "    dead_dic ={}\n",
    "    surv_dic ={}\n",
    "    \n",
    "    for i in range(col_n):\n",
    "        surv_rate = df[df.columns[i]][1]/sum(df[df.columns[i]])\n",
    "        dead_rate = df[df.columns[i]][0]/sum(df[df.columns[i]])\n",
    "        surv_dic[df.columns[i]]= round(surv_rate,4)\n",
    "        dead_dic[df.columns[i]]= round(dead_rate,4)\n",
    "    \n",
    "    row_s = pd.Series(data=surv_dic, name='surv_rate')\n",
    "    row_d = pd.Series(data=dead_dic, name='dead_rate')\n",
    "    \n",
    "    \n",
    "    #append row to the dataframe\n",
    "    df= df.append(row_s, ignore_index=False)\n",
    "    df= df.append(row_d, ignore_index=False)   \n",
    "    \n",
    "    return df"
   ]
  },
  {
   "cell_type": "code",
   "execution_count": 20,
   "metadata": {},
   "outputs": [
    {
     "data": {
      "text/html": [
       "<div>\n",
       "<style scoped>\n",
       "    .dataframe tbody tr th:only-of-type {\n",
       "        vertical-align: middle;\n",
       "    }\n",
       "\n",
       "    .dataframe tbody tr th {\n",
       "        vertical-align: top;\n",
       "    }\n",
       "\n",
       "    .dataframe thead th {\n",
       "        text-align: right;\n",
       "    }\n",
       "</style>\n",
       "<table border=\"1\" class=\"dataframe\">\n",
       "  <thead>\n",
       "    <tr style=\"text-align: right;\">\n",
       "      <th></th>\n",
       "      <th>C</th>\n",
       "      <th>Q</th>\n",
       "      <th>S</th>\n",
       "    </tr>\n",
       "    <tr>\n",
       "      <th>Survived</th>\n",
       "      <th></th>\n",
       "      <th></th>\n",
       "      <th></th>\n",
       "    </tr>\n",
       "  </thead>\n",
       "  <tbody>\n",
       "    <tr>\n",
       "      <th>0</th>\n",
       "      <td>75.0000</td>\n",
       "      <td>47.0000</td>\n",
       "      <td>427.000</td>\n",
       "    </tr>\n",
       "    <tr>\n",
       "      <th>1</th>\n",
       "      <td>93.0000</td>\n",
       "      <td>30.0000</td>\n",
       "      <td>217.000</td>\n",
       "    </tr>\n",
       "    <tr>\n",
       "      <th>surv_rate</th>\n",
       "      <td>0.5536</td>\n",
       "      <td>0.3896</td>\n",
       "      <td>0.337</td>\n",
       "    </tr>\n",
       "    <tr>\n",
       "      <th>dead_rate</th>\n",
       "      <td>0.4464</td>\n",
       "      <td>0.6104</td>\n",
       "      <td>0.663</td>\n",
       "    </tr>\n",
       "  </tbody>\n",
       "</table>\n",
       "</div>"
      ],
      "text/plain": [
       "                 C        Q        S\n",
       "Survived                            \n",
       "0          75.0000  47.0000  427.000\n",
       "1          93.0000  30.0000  217.000\n",
       "surv_rate   0.5536   0.3896    0.337\n",
       "dead_rate   0.4464   0.6104    0.663"
      ]
     },
     "execution_count": 20,
     "metadata": {},
     "output_type": "execute_result"
    }
   ],
   "source": [
    "ct = rating(ct)\n",
    "ct"
   ]
  },
  {
   "cell_type": "code",
   "execution_count": 21,
   "metadata": {
    "scrolled": true
   },
   "outputs": [
    {
     "data": {
      "text/plain": [
       "<AxesSubplot:>"
      ]
     },
     "execution_count": 21,
     "metadata": {},
     "output_type": "execute_result"
    },
    {
     "data": {
      "image/png": "[encoded data removed]",
      "text/plain": [
       "<Figure size 432x288 with 1 Axes>"
      ]
     },
     "metadata": {
      "needs_background": "light"
     },
     "output_type": "display_data"
    }
   ],
   "source": [
    "data = ct.iloc[2:] #only for surv_rate, dead_rate\n",
    "data.index = ['Survived', 'Dead']\n",
    "data.plot.bar(stacked=True)"
   ]
  },
  {
   "cell_type": "markdown",
   "metadata": {},
   "source": [
    "### D. Cabin - Survived"
   ]
  },
  {
   "cell_type": "code",
   "execution_count": 22,
   "metadata": {},
   "outputs": [],
   "source": [
    "#Cabin이 널값이 아닌 데이터를 복사해놓음\n",
    "\n",
    "Not_NanCabin = data_df[data_df[\"Cabin\"].notnull()]\n",
    "\n",
    "#Cabin이 널값인 데이터를 복사해놓음\n",
    "NanCabin = data_df[data_df[\"Cabin\"].isnull()]"
   ]
  },
  {
   "cell_type": "code",
   "execution_count": 23,
   "metadata": {},
   "outputs": [],
   "source": [
    "#Cabin열의 값을 알파벳으로 자르는 함수선언\n",
    "\n",
    "def cabin_str(df):\n",
    "    col_list = []\n",
    "    for row in df.index:\n",
    "        cabin_str = str(df[\"Cabin\"][row]).upper()\n",
    "        col_list.append(cabin_str[0])\n",
    "    \n",
    "    return col_list"
   ]
  },
  {
   "cell_type": "code",
   "execution_count": 24,
   "metadata": {},
   "outputs": [],
   "source": [
    "#함수를 사용하여 잘라준 알파벳리스트를 Cabin열에 다시 넣어줌\n",
    "\n",
    "data_df[\"Cabin\"] = cabin_str(data_df)"
   ]
  },
  {
   "cell_type": "code",
   "execution_count": 25,
   "metadata": {},
   "outputs": [
    {
     "data": {
      "text/plain": [
       "<AxesSubplot:xlabel='Cabin', ylabel='Survived'>"
      ]
     },
     "execution_count": 25,
     "metadata": {},
     "output_type": "execute_result"
    },
    {
     "data": {
      "image/png": "[encoded data removed]",
      "text/plain": [
       "<Figure size 432x288 with 1 Axes>"
      ]
     },
     "metadata": {
      "needs_background": "light"
     },
     "output_type": "display_data"
    }
   ],
   "source": [
    "# 선실유형별 생존율\n",
    "\n",
    "sns.barplot(x='Cabin', y='Survived', data=data_df)\n",
    "\n",
    "# \"C, E, D, B, F\"로 시작하는 선실타입은 생존율이 높은반면\n",
    "# \"G, A\"는 생존율이 비교적 낮고\n",
    "# \"N\"은 매우 낮음\n",
    "# : 사망자와 생존자 중 선실유형 분포율 보기."
   ]
  },
  {
   "cell_type": "code",
   "execution_count": 26,
   "metadata": {
    "scrolled": true
   },
   "outputs": [
    {
     "data": {
      "text/plain": [
       "<AxesSubplot:ylabel='Survived'>"
      ]
     },
     "execution_count": 26,
     "metadata": {},
     "output_type": "execute_result"
    },
    {
     "data": {
      "image/png": "[encoded data removed]",
      "text/plain": [
       "<Figure size 720x432 with 1 Axes>"
      ]
     },
     "metadata": {
      "needs_background": "light"
     },
     "output_type": "display_data"
    }
   ],
   "source": [
    "# 생존/사망별 선실유형 분포율\n",
    "\n",
    "temp_df = data_df[[\"Survived\", \"Cabin\"]]\n",
    "Survived_Cabin = pd.get_dummies(temp_df, columns = [\"Cabin\"])\n",
    "Survived_Cabin_bar = pd.pivot_table(Survived_Cabin, index=\"Survived\", aggfunc=np.sum)\n",
    "Survived_Cabin_bar.plot(kind=\"barh\", stacked=True, width=0.5, figsize=(10,6))\n",
    "\n",
    "# : 선실타입이 NaN값이 많아 압도적으로 많이 나온다."
   ]
  },
  {
   "cell_type": "code",
   "execution_count": 27,
   "metadata": {
    "scrolled": true
   },
   "outputs": [
    {
     "data": {
      "text/plain": [
       "<AxesSubplot:ylabel='Survived'>"
      ]
     },
     "execution_count": 27,
     "metadata": {},
     "output_type": "execute_result"
    },
    {
     "data": {
      "image/png": "[encoded data removed]",
      "text/plain": [
       "<Figure size 720x432 with 1 Axes>"
      ]
     },
     "metadata": {
      "needs_background": "light"
     },
     "output_type": "display_data"
    }
   ],
   "source": [
    "# 생존/사망별 선실유형(Not NaN) 분포율\n",
    "\n",
    "Not_NanCabin[\"Cabin\"] = cabin_str(Not_NanCabin)\n",
    "temp_df2 = Not_NanCabin[[\"Survived\", \"Cabin\"]]\n",
    "N_n_Survived_Cabin = pd.get_dummies(temp_df2, columns = [\"Cabin\"])\n",
    "N_n_Survived_Cabin_bar = pd.pivot_table(N_n_Survived_Cabin, index=\"Survived\", aggfunc=np.sum)\n",
    "N_n_Survived_Cabin_bar.plot(kind=\"barh\", stacked=True, width=0.5, figsize=(10,6))"
   ]
  },
  {
   "cell_type": "code",
   "execution_count": 28,
   "metadata": {},
   "outputs": [
    {
     "data": {
      "text/plain": [
       "<AxesSubplot:ylabel='Cabin'>"
      ]
     },
     "execution_count": 28,
     "metadata": {},
     "output_type": "execute_result"
    },
    {
     "data": {
      "image/png": "[encoded data removed]",
      "text/plain": [
       "<Figure size 720x432 with 1 Axes>"
      ]
     },
     "metadata": {
      "needs_background": "light"
     },
     "output_type": "display_data"
    }
   ],
   "source": [
    "# 선실유형 NaN값의 Pclass분포도\n",
    "\n",
    "NanCabin[\"Cabin\"] = cabin_str(NanCabin)\n",
    "\n",
    "temp_CabinN = NanCabin[[\"Cabin\", \"Pclass\"]]\n",
    "Cabin_null = pd.get_dummies(temp_CabinN, columns = [\"Pclass\"])\n",
    "Cabin_n_bar = pd.pivot_table(Cabin_null, index=\"Cabin\", aggfunc=np.sum)\n",
    "Cabin_n_bar.plot(kind=\"barh\", stacked=True, width=0.5, figsize=(10,6))"
   ]
  },
  {
   "cell_type": "code",
   "execution_count": 29,
   "metadata": {},
   "outputs": [
    {
     "data": {
      "text/plain": [
       "<AxesSubplot:ylabel='Cabin'>"
      ]
     },
     "execution_count": 29,
     "metadata": {},
     "output_type": "execute_result"
    },
    {
     "data": {
      "image/png": "[encoded data removed]",
      "text/plain": [
       "<Figure size 720x432 with 1 Axes>"
      ]
     },
     "metadata": {
      "needs_background": "light"
     },
     "output_type": "display_data"
    }
   ],
   "source": [
    "# 선실유형 Not NaN값의 Pclass분포도\n",
    "temp_df2 = Not_NanCabin[[\"Pclass\", \"Cabin\"]]\n",
    "N_n_Pclass_Cabin = pd.get_dummies(temp_df2, columns = [\"Pclass\"])\n",
    "N_n_Pclass_Cabin_bar = pd.pivot_table(N_n_Pclass_Cabin, index=\"Cabin\", aggfunc=np.sum)\n",
    "N_n_Pclass_Cabin_bar.plot(kind=\"barh\", stacked=True, width=0.5, figsize=((10,6)))"
   ]
  },
  {
   "cell_type": "code",
   "execution_count": 30,
   "metadata": {},
   "outputs": [
    {
     "data": {
      "text/plain": [
       "<AxesSubplot:ylabel='Cabin'>"
      ]
     },
     "execution_count": 30,
     "metadata": {},
     "output_type": "execute_result"
    },
    {
     "data": {
      "image/png": "[encoded data removed]",
      "text/plain": [
       "<Figure size 720x432 with 1 Axes>"
      ]
     },
     "metadata": {
      "needs_background": "light"
     },
     "output_type": "display_data"
    }
   ],
   "source": [
    "# 전체 선실유형 중 Pclass분포도\n",
    "\n",
    "temp_all_df = data_df[[\"Pclass\", \"Cabin\"]]\n",
    "Pclass_Cabin = pd.get_dummies(temp_all_df, columns = [\"Pclass\"])\n",
    "Pclass_Cabin_bar = pd.pivot_table(Pclass_Cabin, index=\"Cabin\", aggfunc=np.sum)\n",
    "Pclass_Cabin_bar.plot(kind=\"barh\", stacked=True, width=0.5, figsize=(10,6))"
   ]
  },
  {
   "cell_type": "code",
   "execution_count": 31,
   "metadata": {},
   "outputs": [
    {
     "data": {
      "text/plain": [
       "<AxesSubplot:ylabel='Survived'>"
      ]
     },
     "execution_count": 31,
     "metadata": {},
     "output_type": "execute_result"
    },
    {
     "data": {
      "image/png": "[encoded data removed]",
      "text/plain": [
       "<Figure size 720x432 with 1 Axes>"
      ]
     },
     "metadata": {
      "needs_background": "light"
     },
     "output_type": "display_data"
    }
   ],
   "source": [
    "# 선실유형 NaN값의 생존/사망별 Pclass분포도 (= data_df[[\"Survived\", \"Pclass\"]][data_df[\"Cabin\"] == \"N\"]\n",
    "temp_CabinN = NanCabin[[\"Survived\", \"Pclass\"]]\n",
    "Cabin_null = pd.get_dummies(temp_CabinN, columns = [\"Pclass\"])\n",
    "Cabin_n_bar = pd.pivot_table(Cabin_null, index=\"Survived\", aggfunc=np.sum)\n",
    "Cabin_n_bar.plot(kind=\"barh\", stacked=True, width=0.5, figsize=(10,6))"
   ]
  },
  {
   "cell_type": "code",
   "execution_count": 32,
   "metadata": {
    "scrolled": false
   },
   "outputs": [
    {
     "data": {
      "text/plain": [
       "<AxesSubplot:xlabel='Survived'>"
      ]
     },
     "execution_count": 32,
     "metadata": {},
     "output_type": "execute_result"
    },
    {
     "data": {
      "image/png": "[encoded data removed]",
      "text/plain": [
       "<Figure size 720x432 with 1 Axes>"
      ]
     },
     "metadata": {
      "needs_background": "light"
     },
     "output_type": "display_data"
    }
   ],
   "source": [
    "# (선실유형 NaN값 & Pclass: 3)의 생존/사망별 성별의 분포\n",
    "\n",
    "temp_CabinN = data_df[[\"Survived\",\"Sex\",\"Pclass\"]][data_df[\"Cabin\"] == \"N\"]\n",
    "temp_Class3 = temp_CabinN[[\"Survived\",\"Sex\",\"Pclass\"]][temp_CabinN[\"Pclass\"] == 3]\n",
    "temp_Cabin_N3 = temp_Class3[[\"Survived\", \"Sex\"]]\n",
    "Cabin_n_3 = pd.get_dummies(temp_Cabin_N3, columns = [\"Sex\"])\n",
    "Cabin_n_3_bar = pd.pivot_table(Cabin_n_3, index=\"Survived\", aggfunc=np.sum)\n",
    "Cabin_n_3_bar.plot(kind=\"bar\", stacked=True, width=0.5, figsize=(10,6),color=['r', 'b'])"
   ]
  },
  {
   "cell_type": "markdown",
   "metadata": {},
   "source": [
    "### E. Pclass - Survived"
   ]
  },
  {
   "cell_type": "code",
   "execution_count": 33,
   "metadata": {},
   "outputs": [
    {
     "data": {
      "text/html": [
       "<div>\n",
       "<style scoped>\n",
       "    .dataframe tbody tr th:only-of-type {\n",
       "        vertical-align: middle;\n",
       "    }\n",
       "\n",
       "    .dataframe tbody tr th {\n",
       "        vertical-align: top;\n",
       "    }\n",
       "\n",
       "    .dataframe thead th {\n",
       "        text-align: right;\n",
       "    }\n",
       "</style>\n",
       "<table border=\"1\" class=\"dataframe\">\n",
       "  <thead>\n",
       "    <tr style=\"text-align: right;\">\n",
       "      <th></th>\n",
       "      <th>Survived</th>\n",
       "      <th>Pclass</th>\n",
       "    </tr>\n",
       "  </thead>\n",
       "  <tbody>\n",
       "    <tr>\n",
       "      <th>0</th>\n",
       "      <td>0</td>\n",
       "      <td>3</td>\n",
       "    </tr>\n",
       "    <tr>\n",
       "      <th>1</th>\n",
       "      <td>1</td>\n",
       "      <td>1</td>\n",
       "    </tr>\n",
       "    <tr>\n",
       "      <th>2</th>\n",
       "      <td>1</td>\n",
       "      <td>3</td>\n",
       "    </tr>\n",
       "    <tr>\n",
       "      <th>3</th>\n",
       "      <td>1</td>\n",
       "      <td>1</td>\n",
       "    </tr>\n",
       "    <tr>\n",
       "      <th>4</th>\n",
       "      <td>0</td>\n",
       "      <td>3</td>\n",
       "    </tr>\n",
       "  </tbody>\n",
       "</table>\n",
       "</div>"
      ],
      "text/plain": [
       "   Survived  Pclass\n",
       "0         0       3\n",
       "1         1       1\n",
       "2         1       3\n",
       "3         1       1\n",
       "4         0       3"
      ]
     },
     "execution_count": 33,
     "metadata": {},
     "output_type": "execute_result"
    }
   ],
   "source": [
    "# Survived와 Pclass의 상관관계확인을 위해 두개의 열만 선택\n",
    "new_df = data_df[['Survived', 'Pclass']]\n",
    "new_df.head()"
   ]
  },
  {
   "cell_type": "code",
   "execution_count": 34,
   "metadata": {
    "scrolled": true
   },
   "outputs": [
    {
     "data": {
      "text/html": [
       "<div>\n",
       "<style scoped>\n",
       "    .dataframe tbody tr th:only-of-type {\n",
       "        vertical-align: middle;\n",
       "    }\n",
       "\n",
       "    .dataframe tbody tr th {\n",
       "        vertical-align: top;\n",
       "    }\n",
       "\n",
       "    .dataframe thead th {\n",
       "        text-align: right;\n",
       "    }\n",
       "</style>\n",
       "<table border=\"1\" class=\"dataframe\">\n",
       "  <thead>\n",
       "    <tr style=\"text-align: right;\">\n",
       "      <th></th>\n",
       "      <th>Survived</th>\n",
       "      <th>Pclass_1</th>\n",
       "      <th>Pclass_2</th>\n",
       "      <th>Pclass_3</th>\n",
       "    </tr>\n",
       "  </thead>\n",
       "  <tbody>\n",
       "    <tr>\n",
       "      <th>0</th>\n",
       "      <td>0</td>\n",
       "      <td>0</td>\n",
       "      <td>0</td>\n",
       "      <td>1</td>\n",
       "    </tr>\n",
       "    <tr>\n",
       "      <th>1</th>\n",
       "      <td>1</td>\n",
       "      <td>1</td>\n",
       "      <td>0</td>\n",
       "      <td>0</td>\n",
       "    </tr>\n",
       "    <tr>\n",
       "      <th>2</th>\n",
       "      <td>1</td>\n",
       "      <td>0</td>\n",
       "      <td>0</td>\n",
       "      <td>1</td>\n",
       "    </tr>\n",
       "    <tr>\n",
       "      <th>3</th>\n",
       "      <td>1</td>\n",
       "      <td>1</td>\n",
       "      <td>0</td>\n",
       "      <td>0</td>\n",
       "    </tr>\n",
       "    <tr>\n",
       "      <th>4</th>\n",
       "      <td>0</td>\n",
       "      <td>0</td>\n",
       "      <td>0</td>\n",
       "      <td>1</td>\n",
       "    </tr>\n",
       "  </tbody>\n",
       "</table>\n",
       "</div>"
      ],
      "text/plain": [
       "   Survived  Pclass_1  Pclass_2  Pclass_3\n",
       "0         0         0         0         1\n",
       "1         1         1         0         0\n",
       "2         1         0         0         1\n",
       "3         1         1         0         0\n",
       "4         0         0         0         1"
      ]
     },
     "execution_count": 34,
     "metadata": {},
     "output_type": "execute_result"
    }
   ],
   "source": [
    "# Pclass열만 one-hot 인코딩\n",
    "\n",
    "new_enc_df=pd.get_dummies(new_df, columns = ['Pclass'])\n",
    "new_enc_df.head()"
   ]
  },
  {
   "cell_type": "code",
   "execution_count": 35,
   "metadata": {},
   "outputs": [
    {
     "data": {
      "text/html": [
       "<div>\n",
       "<style scoped>\n",
       "    .dataframe tbody tr th:only-of-type {\n",
       "        vertical-align: middle;\n",
       "    }\n",
       "\n",
       "    .dataframe tbody tr th {\n",
       "        vertical-align: top;\n",
       "    }\n",
       "\n",
       "    .dataframe thead th {\n",
       "        text-align: right;\n",
       "    }\n",
       "</style>\n",
       "<table border=\"1\" class=\"dataframe\">\n",
       "  <thead>\n",
       "    <tr style=\"text-align: right;\">\n",
       "      <th></th>\n",
       "      <th>Pclass_1</th>\n",
       "      <th>Pclass_2</th>\n",
       "      <th>Pclass_3</th>\n",
       "    </tr>\n",
       "    <tr>\n",
       "      <th>Survived</th>\n",
       "      <th></th>\n",
       "      <th></th>\n",
       "      <th></th>\n",
       "    </tr>\n",
       "  </thead>\n",
       "  <tbody>\n",
       "    <tr>\n",
       "      <th>0</th>\n",
       "      <td>80</td>\n",
       "      <td>97</td>\n",
       "      <td>372.0</td>\n",
       "    </tr>\n",
       "    <tr>\n",
       "      <th>1</th>\n",
       "      <td>136</td>\n",
       "      <td>87</td>\n",
       "      <td>119.0</td>\n",
       "    </tr>\n",
       "  </tbody>\n",
       "</table>\n",
       "</div>"
      ],
      "text/plain": [
       "          Pclass_1  Pclass_2  Pclass_3\n",
       "Survived                              \n",
       "0               80        97     372.0\n",
       "1              136        87     119.0"
      ]
     },
     "execution_count": 35,
     "metadata": {},
     "output_type": "execute_result"
    }
   ],
   "source": [
    "#인덱스 설정\n",
    "\n",
    "newind_df = pd.pivot_table(new_enc_df, index='Survived', aggfunc=np.sum)\n",
    "newind_df"
   ]
  },
  {
   "cell_type": "code",
   "execution_count": 36,
   "metadata": {},
   "outputs": [
    {
     "data": {
      "text/html": [
       "<div>\n",
       "<style scoped>\n",
       "    .dataframe tbody tr th:only-of-type {\n",
       "        vertical-align: middle;\n",
       "    }\n",
       "\n",
       "    .dataframe tbody tr th {\n",
       "        vertical-align: top;\n",
       "    }\n",
       "\n",
       "    .dataframe thead th {\n",
       "        text-align: right;\n",
       "    }\n",
       "</style>\n",
       "<table border=\"1\" class=\"dataframe\">\n",
       "  <thead>\n",
       "    <tr style=\"text-align: right;\">\n",
       "      <th></th>\n",
       "      <th>Pclass_1</th>\n",
       "      <th>Pclass_2</th>\n",
       "      <th>Pclass_3</th>\n",
       "    </tr>\n",
       "    <tr>\n",
       "      <th>Survived</th>\n",
       "      <th></th>\n",
       "      <th></th>\n",
       "      <th></th>\n",
       "    </tr>\n",
       "  </thead>\n",
       "  <tbody>\n",
       "    <tr>\n",
       "      <th>Dead</th>\n",
       "      <td>80</td>\n",
       "      <td>97</td>\n",
       "      <td>372.0</td>\n",
       "    </tr>\n",
       "    <tr>\n",
       "      <th>Survived</th>\n",
       "      <td>136</td>\n",
       "      <td>87</td>\n",
       "      <td>119.0</td>\n",
       "    </tr>\n",
       "  </tbody>\n",
       "</table>\n",
       "</div>"
      ],
      "text/plain": [
       "          Pclass_1  Pclass_2  Pclass_3\n",
       "Survived                              \n",
       "Dead            80        97     372.0\n",
       "Survived       136        87     119.0"
      ]
     },
     "execution_count": 36,
     "metadata": {},
     "output_type": "execute_result"
    }
   ],
   "source": [
    "newindx_df=newind_df.rename(index = {0:'Dead', 1: 'Survived'})\n",
    "newindx_df"
   ]
  },
  {
   "cell_type": "code",
   "execution_count": 37,
   "metadata": {
    "scrolled": true
   },
   "outputs": [
    {
     "data": {
      "text/plain": [
       "<AxesSubplot:xlabel='Survived'>"
      ]
     },
     "execution_count": 37,
     "metadata": {},
     "output_type": "execute_result"
    },
    {
     "data": {
      "image/png": "[encoded data removed]",
      "text/plain": [
       "<Figure size 432x288 with 1 Axes>"
      ]
     },
     "metadata": {
      "needs_background": "light"
     },
     "output_type": "display_data"
    }
   ],
   "source": [
    "# 생존자와 Pclass의 수 시각화\n",
    "newindx_df.plot.bar(stacked= True)"
   ]
  },
  {
   "cell_type": "markdown",
   "metadata": {},
   "source": [
    "### F. Fare - Survived"
   ]
  },
  {
   "cell_type": "code",
   "execution_count": 38,
   "metadata": {},
   "outputs": [
    {
     "data": {
      "text/plain": [
       "count    891.000000\n",
       "mean      32.204208\n",
       "std       49.693429\n",
       "min        0.000000\n",
       "25%        7.910400\n",
       "50%       14.454200\n",
       "75%       31.000000\n",
       "max      512.329200\n",
       "Name: Fare, dtype: float64"
      ]
     },
     "execution_count": 38,
     "metadata": {},
     "output_type": "execute_result"
    }
   ],
   "source": [
    "data_df['Fare'].describe()"
   ]
  },
  {
   "cell_type": "code",
   "execution_count": 39,
   "metadata": {},
   "outputs": [],
   "source": [
    "# Fare 열 범주화 (항목별로 5단위씩)\n",
    "\n",
    "anayl_data = data_df[['Survived', 'Fare']]\n",
    "anayl_data.head()\n",
    "\n",
    "bins = [0,5,10,15,20,25,30,35,50,100, 200, 300] \n",
    "bins_names = [\"1st\",\"2nd\",'3rd',\"4th\",'5th',\"6th\",'7th',\"8th\",'9th', '10th', '11th']\n",
    "\n",
    "# .cut() 함수 사용\n",
    "Fare_categories = pd.cut(anayl_data['Fare'], bins, labels = bins_names)\n",
    "data_df['Fare_D'] = Fare_categories\n",
    "\n",
    "# anayl_data = anayl_data.groupby(anayl_data['Fare_D']).sum()\n",
    "# anayl_data"
   ]
  },
  {
   "cell_type": "code",
   "execution_count": 40,
   "metadata": {},
   "outputs": [
    {
     "data": {
      "image/png": "[encoded data removed]",
      "text/plain": [
       "<Figure size 360x360 with 1 Axes>"
      ]
     },
     "metadata": {
      "needs_background": "light"
     },
     "output_type": "display_data"
    }
   ],
   "source": [
    "# Fare 별 생존 개수 시각화\n",
    "\n",
    "survived_graph('Fare_D')\n"
   ]
  },
  {
   "cell_type": "code",
   "execution_count": 41,
   "metadata": {},
   "outputs": [
    {
     "data": {
      "image/png": "[encoded data removed]",
      "text/plain": [
       "<Figure size 720x720 with 1 Axes>"
      ]
     },
     "metadata": {
      "needs_background": "light"
     },
     "output_type": "display_data"
    }
   ],
   "source": [
    "# Fare 범주별 Survived 시각화\n",
    "\n",
    "plt.figure(figsize=(10,10))\n",
    "sns.countplot(x='Fare_D', data=data_df)\n",
    "plt.show()"
   ]
  },
  {
   "cell_type": "code",
   "execution_count": 42,
   "metadata": {},
   "outputs": [
    {
     "data": {
      "image/png": "[encoded data removed]",
      "text/plain": [
       "<Figure size 720x720 with 1 Axes>"
      ]
     },
     "metadata": {
      "needs_background": "light"
     },
     "output_type": "display_data"
    }
   ],
   "source": [
    "plt.figure(figsize=(10,10))\n",
    "sns.barplot(x = 'Fare_D', y = 'Survived', data = data_df)\n",
    "plt.show()"
   ]
  },
  {
   "cell_type": "code",
   "execution_count": 43,
   "metadata": {
    "scrolled": true
   },
   "outputs": [],
   "source": [
    "# # 수정 필요 (??)\n",
    "\n",
    "# sample_df = pd.concat([x_data_new, y_data], axis = 1)   \n",
    "# sample_df.corr()\n",
    "\n",
    "# plt.figure(figsize=(10,10))\n",
    "# sns.heatmap(data = anayl_data.corr(), annot=True, \n",
    "# fmt = '.2f', linewidths=.5, cmap='Blues')\n"
   ]
  },
  {
   "cell_type": "markdown",
   "metadata": {},
   "source": [
    "<br>\n",
    "\n",
    "## 2. Feature engineering & Feature selection"
   ]
  },
  {
   "cell_type": "markdown",
   "metadata": {},
   "source": [
    "#### 시도해볼 수 있는 전략들\n",
    "\n",
    "- 불필요한 열이나 예측에 방해가 되는 열은 아예 지우기 (ex. PassengerId)\n",
    "- 결측치 채우기 \n",
    "- Text로 되어있는 Category(Factor)는 숫자로 바꿔주기 (ex. Male/Female -> 0/1)\n",
    "- 실수 범위를 구간 범위로 바꿔주기 \n",
    "- 필요한 경우 기존 열을 바탕으로 새로운 열을 계산해 추가하기"
   ]
  },
  {
   "cell_type": "markdown",
   "metadata": {},
   "source": [
    "## 2-1. y data, x data 만들기"
   ]
  },
  {
   "cell_type": "code",
   "execution_count": 44,
   "metadata": {
    "colab": {
     "base_uri": "https://localhost:8080/",
     "height": 127
    },
    "colab_type": "code",
    "executionInfo": {
     "elapsed": 13775,
     "status": "ok",
     "timestamp": 1546723556658,
     "user": {
      "displayName": "Daeyeon Jo",
      "photoUrl": "https://lh4.googleusercontent.com/-9t4wvx9MYls/AAAAAAAAAAI/AAAAAAAAAC0/SPqWlKvQQMk/s64/photo.jpg",
      "userId": "05542487530960824006"
     },
     "user_tz": -540
    },
    "id": "EqR4honW16jn",
    "outputId": "35909889-315d-4a5f-815d-ce1535201ae0"
   },
   "outputs": [
    {
     "data": {
      "text/html": [
       "<div>\n",
       "<style scoped>\n",
       "    .dataframe tbody tr th:only-of-type {\n",
       "        vertical-align: middle;\n",
       "    }\n",
       "\n",
       "    .dataframe tbody tr th {\n",
       "        vertical-align: top;\n",
       "    }\n",
       "\n",
       "    .dataframe thead th {\n",
       "        text-align: right;\n",
       "    }\n",
       "</style>\n",
       "<table border=\"1\" class=\"dataframe\">\n",
       "  <thead>\n",
       "    <tr style=\"text-align: right;\">\n",
       "      <th></th>\n",
       "      <th>Survived</th>\n",
       "    </tr>\n",
       "  </thead>\n",
       "  <tbody>\n",
       "    <tr>\n",
       "      <th>0</th>\n",
       "      <td>0</td>\n",
       "    </tr>\n",
       "    <tr>\n",
       "      <th>1</th>\n",
       "      <td>1</td>\n",
       "    </tr>\n",
       "    <tr>\n",
       "      <th>2</th>\n",
       "      <td>1</td>\n",
       "    </tr>\n",
       "  </tbody>\n",
       "</table>\n",
       "</div>"
      ],
      "text/plain": [
       "   Survived\n",
       "0         0\n",
       "1         1\n",
       "2         1"
      ]
     },
     "execution_count": 44,
     "metadata": {},
     "output_type": "execute_result"
    }
   ],
   "source": [
    "y_data = data_df[['Survived']]\n",
    "y_data.head(3)"
   ]
  },
  {
   "cell_type": "code",
   "execution_count": 45,
   "metadata": {
    "scrolled": true
   },
   "outputs": [],
   "source": [
    "del data_df['Survived']\n",
    "x_data = data_df.copy()"
   ]
  },
  {
   "cell_type": "code",
   "execution_count": 46,
   "metadata": {},
   "outputs": [
    {
     "data": {
      "text/html": [
       "<div>\n",
       "<style scoped>\n",
       "    .dataframe tbody tr th:only-of-type {\n",
       "        vertical-align: middle;\n",
       "    }\n",
       "\n",
       "    .dataframe tbody tr th {\n",
       "        vertical-align: top;\n",
       "    }\n",
       "\n",
       "    .dataframe thead th {\n",
       "        text-align: right;\n",
       "    }\n",
       "</style>\n",
       "<table border=\"1\" class=\"dataframe\">\n",
       "  <thead>\n",
       "    <tr style=\"text-align: right;\">\n",
       "      <th></th>\n",
       "      <th>PassengerId</th>\n",
       "      <th>Pclass</th>\n",
       "      <th>Name</th>\n",
       "      <th>Sex</th>\n",
       "      <th>Age</th>\n",
       "      <th>SibSp</th>\n",
       "      <th>Parch</th>\n",
       "      <th>Ticket</th>\n",
       "      <th>Fare</th>\n",
       "      <th>Cabin</th>\n",
       "      <th>Embarked</th>\n",
       "      <th>Age_range_20</th>\n",
       "      <th>Age_range_10</th>\n",
       "      <th>title</th>\n",
       "      <th>Fare_D</th>\n",
       "    </tr>\n",
       "  </thead>\n",
       "  <tbody>\n",
       "    <tr>\n",
       "      <th>0</th>\n",
       "      <td>1</td>\n",
       "      <td>3</td>\n",
       "      <td>Braund, Mr. Owen Harris</td>\n",
       "      <td>male</td>\n",
       "      <td>22.0</td>\n",
       "      <td>1</td>\n",
       "      <td>0</td>\n",
       "      <td>A/5 21171</td>\n",
       "      <td>7.2500</td>\n",
       "      <td>N</td>\n",
       "      <td>S</td>\n",
       "      <td>2030</td>\n",
       "      <td>20 to 29</td>\n",
       "      <td>Mr</td>\n",
       "      <td>2nd</td>\n",
       "    </tr>\n",
       "    <tr>\n",
       "      <th>1</th>\n",
       "      <td>2</td>\n",
       "      <td>1</td>\n",
       "      <td>Cumings, Mrs. John Bradley (Florence Briggs Th...</td>\n",
       "      <td>female</td>\n",
       "      <td>38.0</td>\n",
       "      <td>1</td>\n",
       "      <td>0</td>\n",
       "      <td>PC 17599</td>\n",
       "      <td>71.2833</td>\n",
       "      <td>C</td>\n",
       "      <td>C</td>\n",
       "      <td>2030</td>\n",
       "      <td>30 to 39</td>\n",
       "      <td>Mrs</td>\n",
       "      <td>9th</td>\n",
       "    </tr>\n",
       "    <tr>\n",
       "      <th>2</th>\n",
       "      <td>3</td>\n",
       "      <td>3</td>\n",
       "      <td>Heikkinen, Miss. Laina</td>\n",
       "      <td>female</td>\n",
       "      <td>26.0</td>\n",
       "      <td>0</td>\n",
       "      <td>0</td>\n",
       "      <td>STON/O2. 3101282</td>\n",
       "      <td>7.9250</td>\n",
       "      <td>N</td>\n",
       "      <td>S</td>\n",
       "      <td>2030</td>\n",
       "      <td>20 to 29</td>\n",
       "      <td>Miss</td>\n",
       "      <td>2nd</td>\n",
       "    </tr>\n",
       "  </tbody>\n",
       "</table>\n",
       "</div>"
      ],
      "text/plain": [
       "   PassengerId  Pclass                                               Name  \\\n",
       "0            1       3                            Braund, Mr. Owen Harris   \n",
       "1            2       1  Cumings, Mrs. John Bradley (Florence Briggs Th...   \n",
       "2            3       3                             Heikkinen, Miss. Laina   \n",
       "\n",
       "      Sex   Age  SibSp  Parch            Ticket     Fare Cabin Embarked  \\\n",
       "0    male  22.0      1      0         A/5 21171   7.2500     N        S   \n",
       "1  female  38.0      1      0          PC 17599  71.2833     C        C   \n",
       "2  female  26.0      0      0  STON/O2. 3101282   7.9250     N        S   \n",
       "\n",
       "  Age_range_20 Age_range_10 title Fare_D  \n",
       "0         2030     20 to 29    Mr    2nd  \n",
       "1         2030     30 to 39   Mrs    9th  \n",
       "2         2030     20 to 29  Miss    2nd  "
      ]
     },
     "execution_count": 46,
     "metadata": {},
     "output_type": "execute_result"
    }
   ],
   "source": [
    "x_data.head(3)"
   ]
  },
  {
   "cell_type": "markdown",
   "metadata": {},
   "source": [
    "## 2-2. 불필요한 열 삭제, 필요한 열 추가"
   ]
  },
  {
   "cell_type": "code",
   "execution_count": 47,
   "metadata": {},
   "outputs": [],
   "source": [
    "x_data.drop(['PassengerId', 'Name', 'Ticket', 'Age_range_20', 'Age_range_10', 'Fare_D'], inplace=True,axis=1)"
   ]
  },
  {
   "cell_type": "code",
   "execution_count": 48,
   "metadata": {},
   "outputs": [],
   "source": [
    "x_data['Family'] = x_data['SibSp'] + x_data['Parch']\n",
    "x_data.drop(['SibSp', 'Parch'], inplace = True, axis = 1)"
   ]
  },
  {
   "cell_type": "markdown",
   "metadata": {},
   "source": [
    "## 2-3. 결측치 채우기"
   ]
  },
  {
   "cell_type": "code",
   "execution_count": 49,
   "metadata": {},
   "outputs": [
    {
     "name": "stdout",
     "output_type": "stream",
     "text": [
      "<class 'pandas.core.frame.DataFrame'>\n",
      "RangeIndex: 891 entries, 0 to 890\n",
      "Data columns (total 8 columns):\n",
      " #   Column    Non-Null Count  Dtype  \n",
      "---  ------    --------------  -----  \n",
      " 0   Pclass    891 non-null    int64  \n",
      " 1   Sex       891 non-null    object \n",
      " 2   Age       714 non-null    float64\n",
      " 3   Fare      891 non-null    float64\n",
      " 4   Cabin     891 non-null    object \n",
      " 5   Embarked  889 non-null    object \n",
      " 6   title     891 non-null    object \n",
      " 7   Family    891 non-null    int64  \n",
      "dtypes: float64(2), int64(2), object(4)\n",
      "memory usage: 55.8+ KB\n"
     ]
    }
   ],
   "source": [
    "x_data.info()"
   ]
  },
  {
   "cell_type": "markdown",
   "metadata": {},
   "source": [
    "### A. Age 결측치"
   ]
  },
  {
   "cell_type": "code",
   "execution_count": 50,
   "metadata": {},
   "outputs": [],
   "source": [
    "# 기존 데이터의 Age 를 하나의 pool 로 만들어 랜덤 추출후 값 지정\n",
    "\n",
    "age_list = [ x for x in x_data['Age'].dropna()] \n",
    "\n",
    "for idx, x in enumerate(x_data['Age'].isnull()):\n",
    "    new_x = random.choice(age_list)\n",
    "    if x == True:\n",
    "        x_data.at[idx, 'Age'] = new_x"
   ]
  },
  {
   "cell_type": "markdown",
   "metadata": {},
   "source": [
    "### B. Cabin 결측치\n",
    "\n",
    "전체 선실유형 중 Pclass 분포도 시각화 그래프 참고"
   ]
  },
  {
   "cell_type": "code",
   "execution_count": 51,
   "metadata": {},
   "outputs": [],
   "source": [
    "# 선실유형을 알파벳 앞자리로 잘라줌\n",
    "x_data[\"Cabin\"] = cabin_str(x_data)\n",
    "\n",
    "# 선실유형의 null값을 Pclass에 따라 random하게 배정해줄 함수 선언\n",
    "def fillnull(df):\n",
    "    colList = []\n",
    "    \n",
    "    P1_CabinList = [\"A\", \"B\", \"C\", \"D\", \"E\"]\n",
    "    P2_CabinList = [\"D\", \"E\", \"F\"]\n",
    "    P3_CabinList = [\"E\", \"F\", \"G\"]\n",
    "    for row in df.index:\n",
    "        CabinName = df[\"Cabin\"][row]\n",
    "        PclassName = df[\"Pclass\"][row]\n",
    "        if CabinName == \"N\":\n",
    "            if PclassName == 1:\n",
    "                colList.append(random.choice(P1_CabinList))\n",
    "            elif PclassName == 2:\n",
    "                colList.append(random.choice(P2_CabinList))\n",
    "            else:\n",
    "                colList.append(random.choice(P3_CabinList))\n",
    "        else:\n",
    "            colList.append(CabinName)\n",
    "    \n",
    "    return colList\n",
    "\n",
    "x_data[\"Cabin\"] = fillnull(x_data)"
   ]
  },
  {
   "cell_type": "markdown",
   "metadata": {},
   "source": [
    "### C. Embarked 결측치"
   ]
  },
  {
   "cell_type": "code",
   "execution_count": 52,
   "metadata": {},
   "outputs": [
    {
     "data": {
      "text/html": [
       "<div>\n",
       "<style scoped>\n",
       "    .dataframe tbody tr th:only-of-type {\n",
       "        vertical-align: middle;\n",
       "    }\n",
       "\n",
       "    .dataframe tbody tr th {\n",
       "        vertical-align: top;\n",
       "    }\n",
       "\n",
       "    .dataframe thead th {\n",
       "        text-align: right;\n",
       "    }\n",
       "</style>\n",
       "<table border=\"1\" class=\"dataframe\">\n",
       "  <thead>\n",
       "    <tr style=\"text-align: right;\">\n",
       "      <th></th>\n",
       "      <th>Pclass</th>\n",
       "      <th>Sex</th>\n",
       "      <th>Age</th>\n",
       "      <th>Fare</th>\n",
       "      <th>Cabin</th>\n",
       "      <th>Embarked</th>\n",
       "      <th>title</th>\n",
       "      <th>Family</th>\n",
       "    </tr>\n",
       "  </thead>\n",
       "  <tbody>\n",
       "  </tbody>\n",
       "</table>\n",
       "</div>"
      ],
      "text/plain": [
       "Empty DataFrame\n",
       "Columns: [Pclass, Sex, Age, Fare, Cabin, Embarked, title, Family]\n",
       "Index: []"
      ]
     },
     "execution_count": 52,
     "metadata": {},
     "output_type": "execute_result"
    }
   ],
   "source": [
    "# replace null values(2) --> 'S'\n",
    "\n",
    "x_data[x_data.Embarked.isnull()] #index 61/829\n",
    "\n",
    "x_data.Embarked[x_data.index==61]='S'\n",
    "x_data.Embarked[x_data.index==829]='S'\n",
    "\n",
    "x_data[x_data.Embarked.isnull()]"
   ]
  },
  {
   "cell_type": "markdown",
   "metadata": {},
   "source": [
    "### D. Fare 결측치"
   ]
  },
  {
   "cell_type": "code",
   "execution_count": 53,
   "metadata": {},
   "outputs": [],
   "source": [
    "#결측치 환산\n",
    "\n",
    "mean_Fare = x_data['Fare'].median(skipna=True)\n",
    "x_data['Fare'] = x_data['Fare'].fillna(mean_Fare)"
   ]
  },
  {
   "cell_type": "markdown",
   "metadata": {},
   "source": [
    "## 2-4. 엔코딩"
   ]
  },
  {
   "cell_type": "code",
   "execution_count": 54,
   "metadata": {},
   "outputs": [],
   "source": [
    "# Embarked one-hot encoding (C = Cherbourg, Q = Queenstown, S = Southampton)\n",
    "\n",
    "temp = pd.get_dummies(x_data['Embarked'], drop_first=False, prefix = 'embarked')\n",
    "x_data = pd.concat([x_data,temp],axis=1)\n",
    "del x_data['Embarked']\n",
    "\n",
    "# Sex one-hot encoding \n",
    "\n",
    "temp = pd.get_dummies(x_data['Sex'], drop_first=False, prefix = 'Sex') \n",
    "x_data = pd.concat([x_data,temp],axis=1)\n",
    "del x_data['Sex']\n",
    "\n",
    "# Title one-hot encoding \n",
    "temp = pd.get_dummies(x_data['title'], drop_first=False, prefix = 'title') \n",
    "x_data = pd.concat([x_data,temp],axis=1)\n",
    "del x_data['title']\n",
    "\n",
    "# Cabin one-hot encoding \n",
    "temp = pd.get_dummies(x_data['Cabin'], drop_first=False, prefix = 'cabin') \n",
    "x_data = pd.concat([x_data,temp],axis=1)\n",
    "del x_data['Cabin']"
   ]
  },
  {
   "cell_type": "markdown",
   "metadata": {},
   "source": [
    "## 2-5. 정규화(Standardization)"
   ]
  },
  {
   "cell_type": "code",
   "execution_count": 55,
   "metadata": {},
   "outputs": [
    {
     "data": {
      "text/plain": [
       "array([[-0.50244517, -0.54949846],\n",
       "       [ 0.78684529,  0.55251322],\n",
       "       [-0.48885426, -0.27399554],\n",
       "       ...,\n",
       "       [-0.17626324,  1.10351906],\n",
       "       [-0.04438104, -0.27399554],\n",
       "       [-0.49237783,  0.13925884]])"
      ]
     },
     "execution_count": 55,
     "metadata": {},
     "output_type": "execute_result"
    }
   ],
   "source": [
    "from sklearn.preprocessing import StandardScaler\n",
    "\n",
    "scaler = StandardScaler()\n",
    "scaler.fit(x_data[['Fare','Age']])\n",
    "S_data = scaler.fit_transform(x_data[['Fare','Age']])\n",
    "S_data"
   ]
  },
  {
   "cell_type": "code",
   "execution_count": 56,
   "metadata": {},
   "outputs": [
    {
     "data": {
      "text/html": [
       "<div>\n",
       "<style scoped>\n",
       "    .dataframe tbody tr th:only-of-type {\n",
       "        vertical-align: middle;\n",
       "    }\n",
       "\n",
       "    .dataframe tbody tr th {\n",
       "        vertical-align: top;\n",
       "    }\n",
       "\n",
       "    .dataframe thead th {\n",
       "        text-align: right;\n",
       "    }\n",
       "</style>\n",
       "<table border=\"1\" class=\"dataframe\">\n",
       "  <thead>\n",
       "    <tr style=\"text-align: right;\">\n",
       "      <th></th>\n",
       "      <th>Pclass</th>\n",
       "      <th>Age</th>\n",
       "      <th>Fare</th>\n",
       "      <th>Family</th>\n",
       "      <th>embarked_C</th>\n",
       "      <th>embarked_Q</th>\n",
       "      <th>embarked_S</th>\n",
       "      <th>Sex_female</th>\n",
       "      <th>Sex_male</th>\n",
       "      <th>title_Don</th>\n",
       "      <th>...</th>\n",
       "      <th>title_Rev</th>\n",
       "      <th>title_other</th>\n",
       "      <th>cabin_A</th>\n",
       "      <th>cabin_B</th>\n",
       "      <th>cabin_C</th>\n",
       "      <th>cabin_D</th>\n",
       "      <th>cabin_E</th>\n",
       "      <th>cabin_F</th>\n",
       "      <th>cabin_G</th>\n",
       "      <th>cabin_T</th>\n",
       "    </tr>\n",
       "  </thead>\n",
       "  <tbody>\n",
       "    <tr>\n",
       "      <th>0</th>\n",
       "      <td>3</td>\n",
       "      <td>-0.549498</td>\n",
       "      <td>-0.502445</td>\n",
       "      <td>1</td>\n",
       "      <td>0</td>\n",
       "      <td>0</td>\n",
       "      <td>1</td>\n",
       "      <td>0</td>\n",
       "      <td>1</td>\n",
       "      <td>0</td>\n",
       "      <td>...</td>\n",
       "      <td>0</td>\n",
       "      <td>0</td>\n",
       "      <td>0</td>\n",
       "      <td>0</td>\n",
       "      <td>0</td>\n",
       "      <td>0</td>\n",
       "      <td>0</td>\n",
       "      <td>1</td>\n",
       "      <td>0</td>\n",
       "      <td>0</td>\n",
       "    </tr>\n",
       "    <tr>\n",
       "      <th>1</th>\n",
       "      <td>1</td>\n",
       "      <td>0.552513</td>\n",
       "      <td>0.786845</td>\n",
       "      <td>1</td>\n",
       "      <td>1</td>\n",
       "      <td>0</td>\n",
       "      <td>0</td>\n",
       "      <td>1</td>\n",
       "      <td>0</td>\n",
       "      <td>0</td>\n",
       "      <td>...</td>\n",
       "      <td>0</td>\n",
       "      <td>0</td>\n",
       "      <td>0</td>\n",
       "      <td>0</td>\n",
       "      <td>1</td>\n",
       "      <td>0</td>\n",
       "      <td>0</td>\n",
       "      <td>0</td>\n",
       "      <td>0</td>\n",
       "      <td>0</td>\n",
       "    </tr>\n",
       "    <tr>\n",
       "      <th>2</th>\n",
       "      <td>3</td>\n",
       "      <td>-0.273996</td>\n",
       "      <td>-0.488854</td>\n",
       "      <td>0</td>\n",
       "      <td>0</td>\n",
       "      <td>0</td>\n",
       "      <td>1</td>\n",
       "      <td>1</td>\n",
       "      <td>0</td>\n",
       "      <td>0</td>\n",
       "      <td>...</td>\n",
       "      <td>0</td>\n",
       "      <td>0</td>\n",
       "      <td>0</td>\n",
       "      <td>0</td>\n",
       "      <td>0</td>\n",
       "      <td>0</td>\n",
       "      <td>1</td>\n",
       "      <td>0</td>\n",
       "      <td>0</td>\n",
       "      <td>0</td>\n",
       "    </tr>\n",
       "    <tr>\n",
       "      <th>3</th>\n",
       "      <td>1</td>\n",
       "      <td>0.345886</td>\n",
       "      <td>0.420730</td>\n",
       "      <td>1</td>\n",
       "      <td>0</td>\n",
       "      <td>0</td>\n",
       "      <td>1</td>\n",
       "      <td>1</td>\n",
       "      <td>0</td>\n",
       "      <td>0</td>\n",
       "      <td>...</td>\n",
       "      <td>0</td>\n",
       "      <td>0</td>\n",
       "      <td>0</td>\n",
       "      <td>0</td>\n",
       "      <td>1</td>\n",
       "      <td>0</td>\n",
       "      <td>0</td>\n",
       "      <td>0</td>\n",
       "      <td>0</td>\n",
       "      <td>0</td>\n",
       "    </tr>\n",
       "    <tr>\n",
       "      <th>4</th>\n",
       "      <td>3</td>\n",
       "      <td>0.345886</td>\n",
       "      <td>-0.486337</td>\n",
       "      <td>0</td>\n",
       "      <td>0</td>\n",
       "      <td>0</td>\n",
       "      <td>1</td>\n",
       "      <td>0</td>\n",
       "      <td>1</td>\n",
       "      <td>0</td>\n",
       "      <td>...</td>\n",
       "      <td>0</td>\n",
       "      <td>0</td>\n",
       "      <td>0</td>\n",
       "      <td>0</td>\n",
       "      <td>0</td>\n",
       "      <td>0</td>\n",
       "      <td>1</td>\n",
       "      <td>0</td>\n",
       "      <td>0</td>\n",
       "      <td>0</td>\n",
       "    </tr>\n",
       "  </tbody>\n",
       "</table>\n",
       "<p>5 rows × 24 columns</p>\n",
       "</div>"
      ],
      "text/plain": [
       "   Pclass       Age      Fare  Family  embarked_C  embarked_Q  embarked_S  \\\n",
       "0       3 -0.549498 -0.502445       1           0           0           1   \n",
       "1       1  0.552513  0.786845       1           1           0           0   \n",
       "2       3 -0.273996 -0.488854       0           0           0           1   \n",
       "3       1  0.345886  0.420730       1           0           0           1   \n",
       "4       3  0.345886 -0.486337       0           0           0           1   \n",
       "\n",
       "   Sex_female  Sex_male  title_Don  ...  title_Rev  title_other  cabin_A  \\\n",
       "0           0         1          0  ...          0            0        0   \n",
       "1           1         0          0  ...          0            0        0   \n",
       "2           1         0          0  ...          0            0        0   \n",
       "3           1         0          0  ...          0            0        0   \n",
       "4           0         1          0  ...          0            0        0   \n",
       "\n",
       "   cabin_B  cabin_C  cabin_D  cabin_E  cabin_F  cabin_G  cabin_T  \n",
       "0        0        0        0        0        1        0        0  \n",
       "1        0        1        0        0        0        0        0  \n",
       "2        0        0        0        1        0        0        0  \n",
       "3        0        1        0        0        0        0        0  \n",
       "4        0        0        0        1        0        0        0  \n",
       "\n",
       "[5 rows x 24 columns]"
      ]
     },
     "execution_count": 56,
     "metadata": {},
     "output_type": "execute_result"
    }
   ],
   "source": [
    "x_data['Fare']=S_data[:,0]\n",
    "x_data['Age']=S_data[:,1]\n",
    "x_data.head()"
   ]
  },
  {
   "cell_type": "markdown",
   "metadata": {},
   "source": [
    "<br>\n",
    "\n",
    "## 2. Train - Test split (비율을 7:3 으로 유지해주시고, seed는 0을 적용해주세요)"
   ]
  },
  {
   "cell_type": "code",
   "execution_count": 57,
   "metadata": {},
   "outputs": [],
   "source": [
    "import numpy as np\n",
    "import matplotlib.pyplot as plt\n",
    "\n",
    "from sklearn import ensemble\n",
    "from sklearn import datasets\n",
    "# from sklearn.utils import shuffle\n",
    "from sklearn.metrics import mean_squared_error\n",
    "from sklearn.model_selection import train_test_split\n",
    "from sklearn.metrics import accuracy_score"
   ]
  },
  {
   "cell_type": "code",
   "execution_count": 58,
   "metadata": {},
   "outputs": [],
   "source": [
    "X = np.array(x_data)#X_data(set)\n",
    "y = np.array(y_data)#y_data"
   ]
  },
  {
   "cell_type": "code",
   "execution_count": 59,
   "metadata": {},
   "outputs": [],
   "source": [
    "# $ conda install xgboost"
   ]
  },
  {
   "cell_type": "code",
   "execution_count": 60,
   "metadata": {},
   "outputs": [],
   "source": [
    "X_train, X_test, y_train, y_test = train_test_split(\n",
    "    X, y, test_size=0.3, random_state=0) #excel --> colab ?\n",
    "#if shuffle?\n"
   ]
  },
  {
   "cell_type": "code",
   "execution_count": 61,
   "metadata": {},
   "outputs": [
    {
     "name": "stdout",
     "output_type": "stream",
     "text": [
      "(623, 24)\n",
      "(268, 24)\n",
      "(623, 1)\n",
      "(268, 1)\n"
     ]
    }
   ],
   "source": [
    "print(X_train.shape) #70% ; 354행\n",
    "print(X_test.shape)\n",
    "print(y_train.shape)\n",
    "print(y_test.shape)"
   ]
  },
  {
   "cell_type": "markdown",
   "metadata": {},
   "source": [
    "<br>\n",
    "\n",
    "## 3. Create model instance variable& Training the model\n",
    "- (동시에 여러 모델을 다른 이름으로 만들 수 있습니다.)\n",
    "### 3-1 : GradientBoostingClassifier"
   ]
  },
  {
   "cell_type": "code",
   "execution_count": 93,
   "metadata": {},
   "outputs": [
    {
     "name": "stdout",
     "output_type": "stream",
     "text": [
      "The accuracy score on training set: 0.9470\n",
      "The accuracy score on test set: 0.8433\n"
     ]
    }
   ],
   "source": [
    "params = {'n_estimators': 1000,\n",
    "          'max_depth': 4,\n",
    "          'min_samples_split': 5,\n",
    "          'learning_rate': 0.01}# gradient search --- SVM (hyper-para 성능향상)\n",
    "\n",
    "clf = ensemble.GradientBoostingClassifier(**params)\n",
    "clf.fit(X_train,y_train)\n",
    "#accurcy score, roc_auc f1 scoure\n",
    "acc_train = accuracy_score(y_train, clf.predict(X_train))\n",
    "acc_test = accuracy_score(y_test, clf.predict(X_test))\n",
    "print(\"The accuracy score on training set: {:.4f}\".format(acc_train))\n",
    "print(\"The accuracy score on test set: {:.4f}\".format(acc_test))"
   ]
  },
  {
   "cell_type": "code",
   "execution_count": 112,
   "metadata": {},
   "outputs": [
    {
     "data": {
      "image/png": "[encoded data removed]",
      "text/plain": [
       "<Figure size 864x432 with 1 Axes>"
      ]
     },
     "metadata": {
      "needs_background": "light"
     },
     "output_type": "display_data"
    }
   ],
   "source": [
    "#feature 중요도도 그려볼 수 있다. \n",
    "import matplotlib.pyplot as plt\n",
    "import seaborn as sns\n",
    "%matplotlib inline\n",
    "\n",
    "feature_importances_values = clf.feature_importances_\n",
    "feature_importances = pd.Series(feature_importances_values, index=x_data.columns)\n",
    "feature_importances_top20 = feature_importances.sort_values(ascending=False)[:20] #중요한 순서로 정렬 후 top 20개만 뽑아 시각화\n",
    "\n",
    "plt.figure(figsize=(12, 6))\n",
    "plt.title('Feature Importances Top 20')\n",
    "sns.barplot(x=feature_importances_top20, y=feature_importances_top20.index)\n",
    "plt.show()"
   ]
  },
  {
   "cell_type": "code",
   "execution_count": 96,
   "metadata": {},
   "outputs": [
    {
     "data": {
      "image/png": "[encoded data removed]",
      "text/plain": [
       "<Figure size 720x720 with 1 Axes>"
      ]
     },
     "metadata": {
      "needs_background": "light"
     },
     "output_type": "display_data"
    }
   ],
   "source": [
    "from sklearn.metrics import roc_curve, auc\n",
    "\n",
    "fpr, tpr, _ = roc_curve(y_true=y_test, y_score=clf.predict_proba(X_test)[:,1]) # real y & predicted y (based on \"Sepal width\")\n",
    "roc_auc = auc(fpr, tpr) # AUC 면적의 값 (수치)\n",
    "\n",
    "plt.figure(figsize=(10, 10))\n",
    "plt.plot(fpr, tpr, color='darkorange', lw=2, label='ROC curve (area = %0.2f)' % roc_auc)\n",
    "plt.plot([0, 1], [0, 1], color='navy', lw=2, linestyle='--')\n",
    "\n",
    "plt.xlim([0.0, 1.0])\n",
    "plt.ylim([0.0, 1.05])\n",
    "plt.xlabel('False Positive Rate')\n",
    "plt.ylabel('True Positive Rate')\n",
    "plt.legend(loc=\"lower right\")\n",
    "plt.title(\"ROC curve\")\n",
    "plt.show()"
   ]
  },
  {
   "cell_type": "code",
   "execution_count": 97,
   "metadata": {},
   "outputs": [
    {
     "name": "stdout",
     "output_type": "stream",
     "text": [
      "              precision    recall  f1-score   support\n",
      "\n",
      "           0       0.86      0.90      0.88       168\n",
      "           1       0.82      0.75      0.78       100\n",
      "\n",
      "   micro avg       0.84      0.84      0.84       268\n",
      "   macro avg       0.84      0.82      0.83       268\n",
      "weighted avg       0.84      0.84      0.84       268\n",
      "\n",
      "Accuracy on Training set: 0.947\n",
      "Accuracy on Test set: 0.843\n"
     ]
    }
   ],
   "source": [
    "from sklearn.metrics import classification_report\n",
    "\n",
    "predictions = clf.predict(X_test)\n",
    "print(classification_report(y_test, predictions)) # Precision, Recall, F1-score 등을 확인할 수 있습니다.\n",
    "\n",
    "print(\"Accuracy on Training set: {:.3f}\".format(clf.score(X_train, y_train)))\n",
    "print(\"Accuracy on Test set: {:.3f}\".format(clf.score(X_test, y_test)))"
   ]
  },
  {
   "cell_type": "code",
   "execution_count": 99,
   "metadata": {},
   "outputs": [
    {
     "name": "stdout",
     "output_type": "stream",
     "text": [
      "Fitting 3 folds for each of 225 candidates, totalling 675 fits\n"
     ]
    },
    {
     "name": "stderr",
     "output_type": "stream",
     "text": [
      "[Parallel(n_jobs=1)]: Using backend SequentialBackend with 1 concurrent workers.\n",
      "[Parallel(n_jobs=1)]: Done 675 out of 675 | elapsed:  9.7min finished\n"
     ]
    },
    {
     "name": "stdout",
     "output_type": "stream",
     "text": [
      "The best parameters are  {'learning_rate': 0.03, 'max_depth': 3, 'min_samples_split': 10, 'n_estimators': 200}\n",
      "The best parameters are  0.8346709470304976\n",
      "The best parameters are  GradientBoostingClassifier(criterion='friedman_mse', init=None,\n",
      "              learning_rate=0.03, loss='deviance', max_depth=3,\n",
      "              max_features=None, max_leaf_nodes=None,\n",
      "              min_impurity_decrease=0.0, min_impurity_split=None,\n",
      "              min_samples_leaf=1, min_samples_split=10,\n",
      "              min_weight_fraction_leaf=0.0, n_estimators=200,\n",
      "              n_iter_no_change=None, presort='auto', random_state=None,\n",
      "              subsample=1.0, tol=0.0001, validation_fraction=0.1,\n",
      "              verbose=0, warm_start=False)\n"
     ]
    }
   ],
   "source": [
    "#GridSearchCV -- 최적의 hyper-parameter 조건 찾기\n",
    "from sklearn.model_selection import GridSearchCV\n",
    "# 아래 param_grid dict 의 C & gamma 에 후보 Hyper-params 값들을 리스트업합니다.\n",
    "#svc(parameter) ; parmeter 그대로 'str' 잘 써줘야함\n",
    "param_grid = {'n_estimators': [50,100,200, 500, 1000], #[100,500,1000]\n",
    "             'max_depth' : [3, 4, 5, 6, 7],#[4,6,8]\n",
    "             'min_samples_split' : [5, 7, 10], #'subsample': [0.9, 0.5, 0.2],\n",
    "             'learning_rate': [0.01,0.02,0.03] }# [0.01,0.1]\n",
    "#@https://scikit-learn.org/stable/modules/generated/sklearn.ensemble.GradientBoostingClassifier.html\n",
    "                    #estimator=clt\n",
    "grid = GridSearchCV(ensemble.GradientBoostingClassifier(), param_grid, refit=True, verbose=1)\n",
    "grid.fit(X_train, y_train)\n",
    "print('The best parameters are ', grid.best_params_)\n",
    "print('The best parameters are ', grid.best_score_)\n",
    "print('The best parameters are ', grid.best_estimator_)"
   ]
  },
  {
   "cell_type": "code",
   "execution_count": 100,
   "metadata": {},
   "outputs": [
    {
     "name": "stdout",
     "output_type": "stream",
     "text": [
      "              precision    recall  f1-score   support\n",
      "\n",
      "           0       0.86      0.89      0.87       168\n",
      "           1       0.81      0.75      0.78       100\n",
      "\n",
      "   micro avg       0.84      0.84      0.84       268\n",
      "   macro avg       0.83      0.82      0.83       268\n",
      "weighted avg       0.84      0.84      0.84       268\n",
      "\n",
      "Accuracy on Training set: 0.884\n",
      "Accuracy on Test set: 0.840\n"
     ]
    }
   ],
   "source": [
    "grid_predictions = grid.predict(X_test)\n",
    "# Precision, Recall, F1-score 등을 확인할 수 있습니다.(support ; y_test data 개수)\n",
    "print(classification_report(y_test, grid_predictions))\n",
    "\n",
    "\n",
    "print(\"Accuracy on Training set: {:.3f}\".format(grid.score(X_train, y_train)))\n",
    "print(\"Accuracy on Test set: {:.3f}\".format(grid.score(X_test, y_test)))"
   ]
  },
  {
   "cell_type": "markdown",
   "metadata": {},
   "source": [
    "### 3-2 XGBoost"
   ]
  },
  {
   "cell_type": "code",
   "execution_count": 120,
   "metadata": {},
   "outputs": [],
   "source": [
    "# Xgboost import \n",
    "import xgboost as xgb\n",
    "from xgboost import plot_importance\n",
    "from xgboost import XGBClassifier\n",
    "\n",
    "model = XGBClassifier(n_estimators=1000, learning_rate=0.1, max_depth=4)\n",
    "model.fit(X_train, y_train)\n",
    "\n",
    "acc = accuracy_score(y_test, model.predict(X_test))\n",
    "print(\"The accuracy score on test set: {:.4f}\".format(acc))"
   ]
  },
  {
   "cell_type": "markdown",
   "metadata": {},
   "source": [
    "The accuracy score on test set: 0.8060"
   ]
  },
  {
   "cell_type": "code",
   "execution_count": null,
   "metadata": {},
   "outputs": [],
   "source": [
    "# parameter 최적화\n",
    "\n",
    "from sklearn.model_selection import GridSearchCV\n",
    "\n",
    "model_param_grid = {\n",
    "    'n_estimators' : [100, 200, 300, 400, 500, 1000],\n",
    "    'learning_rate': [0.01, 0.05, 0.1, 0.15, 0.2],\n",
    "    'max_depth' : [1, 4, 6, 8, 12]\n",
    "}\n",
    "\n",
    "xgb_grid = GridSearchCV(model, param_grid = model_param_grid, scoring = 'accuracy', n_jobs=-1, verbose =1)\n",
    "xgb_grid.fit(X_train, y_train)\n",
    "\n",
    "# 최적화 결과 보기\n",
    "\n",
    "print('The best parameters are :', xgb_grid.best_params_)\n",
    "print('The best accuracy score is : ', xgb_grid.best_score_)"
   ]
  },
  {
   "cell_type": "markdown",
   "metadata": {},
   "source": [
    "The best parameters are : {'learning_rate': 0.01, 'max_depth': 6, 'n_estimators': 200} <br>\n",
    "The best accuracy score is :  0.8282838709677419"
   ]
  },
  {
   "cell_type": "code",
   "execution_count": null,
   "metadata": {},
   "outputs": [],
   "source": [
    "# Classification Report\n",
    "\n",
    "from sklearn.metrics import classification_report\n",
    "\n",
    "grid_predictions = xgb_grid.predict(X_test)\n",
    "print(classification_report(y_test, grid_predictions)) # Precision, Recall, F1-score 등을 확인할 수 있습니다.\n",
    "\n",
    "print(\"Accuracy on Training set: {:.3f}\".format(xgb_grid.score(X_train, y_train)))\n",
    "print(\"Accuracy on Test set: {:.3f}\".format(xgb_grid.score(X_test, y_test)))"
   ]
  },
  {
   "cell_type": "markdown",
   "metadata": {},
   "source": [
    "              precision    recall  f1-score   support\n",
    "\n",
    "           0       0.86      0.88      0.87       168\n",
    "           1       0.79      0.75      0.77       100\n",
    "\n",
    "    accuracy                           0.83       268\n",
    "   macro avg       0.82      0.82      0.82       268 \n",
    "weighted avg       0.83      0.83      0.83       268 \n",
    "\n",
    "Accuracy on Training set: 0.881\n",
    "Accuracy on Test set: 0.832"
   ]
  },
  {
   "cell_type": "markdown",
   "metadata": {},
   "source": [
    "<br>\n",
    "\n",
    "### 3-3. SVM(Support Vector Machine)"
   ]
  },
  {
   "cell_type": "code",
   "execution_count": 81,
   "metadata": {},
   "outputs": [
    {
     "name": "stdout",
     "output_type": "stream",
     "text": [
      "Accuracy on Training set: 0.886\n",
      "Accuracy on Test set: 0.810\n"
     ]
    }
   ],
   "source": [
    "import custom_mglearn\n",
    "from sklearn.svm import SVC #SVC ; SVM Classifier <--> SVR ; SVM Regressor\n",
    "# from sklearn import svm\n",
    "# model = svm.SVC()\n",
    "# model.fit\n",
    "#\n",
    "svc = SVC(kernel='rbf', C=10, gamma=0.1).fit(X_train, y_train)\n",
    "#kernel(가우시안 커널) C/gamma 중요한 hyper-parameter\n",
    "print(\"Accuracy on Training set: {:.3f}\".format(svc.score(X_train, y_train)))\n",
    "print(\"Accuracy on Test set: {:.3f}\".format(svc.score(X_test, y_test)))"
   ]
  },
  {
   "cell_type": "code",
   "execution_count": 105,
   "metadata": {},
   "outputs": [
    {
     "name": "stdout",
     "output_type": "stream",
     "text": [
      "Fitting 3 folds for each of 25 candidates, totalling 75 fits\n"
     ]
    },
    {
     "name": "stderr",
     "output_type": "stream",
     "text": [
      "[Parallel(n_jobs=1)]: Using backend SequentialBackend with 1 concurrent workers.\n"
     ]
    },
    {
     "name": "stdout",
     "output_type": "stream",
     "text": [
      "The best parameters are  {'learning_rate': 0.03, 'max_depth': 3, 'min_samples_split': 10, 'n_estimators': 200}\n",
      "The best parameters are  0.8346709470304976\n",
      "The best parameters are  GradientBoostingClassifier(criterion='friedman_mse', init=None,\n",
      "              learning_rate=0.03, loss='deviance', max_depth=3,\n",
      "              max_features=None, max_leaf_nodes=None,\n",
      "              min_impurity_decrease=0.0, min_impurity_split=None,\n",
      "              min_samples_leaf=1, min_samples_split=10,\n",
      "              min_weight_fraction_leaf=0.0, n_estimators=200,\n",
      "              n_iter_no_change=None, presort='auto', random_state=None,\n",
      "              subsample=1.0, tol=0.0001, validation_fraction=0.1,\n",
      "              verbose=0, warm_start=False)\n"
     ]
    },
    {
     "name": "stderr",
     "output_type": "stream",
     "text": [
      "[Parallel(n_jobs=1)]: Done  75 out of  75 | elapsed:    1.8s finished\n"
     ]
    }
   ],
   "source": [
    "from sklearn.model_selection import GridSearchCV\n",
    "\n",
    "# 아래 param_grid dict 의 C & gamma 에 후보 Hyper-params 값들을 리스트업합니다.\n",
    "#svc(parameter) ; parmeter 그대로 'str' 잘 써줘야함\n",
    "param_grid_svc = {'C' : [0.1, 1, 10, 100, 1000], \n",
    "             'gamma' : [1, 0.1, 0.01, 0.001, 0.0001],\n",
    "             'kernel' : ['rbf']}\n",
    "\n",
    "#GridSearchCV(튜닝할 model(svm.SVC()),parameters,)\n",
    "grid_svc = GridSearchCV(SVC(), param_grid_svc, refit=True, verbose=1)\n",
    "grid_svc.fit(X_train, y_train)\n",
    "print('The best parameters are ', grid.best_params_)\n",
    "print('The best parameters are ', grid.best_score_)\n",
    "print('The best parameters are ', grid.best_estimator_)"
   ]
  },
  {
   "cell_type": "code",
   "execution_count": 107,
   "metadata": {},
   "outputs": [
    {
     "name": "stdout",
     "output_type": "stream",
     "text": [
      "              precision    recall  f1-score   support\n",
      "\n",
      "           0       0.85      0.88      0.86       168\n",
      "           1       0.78      0.75      0.77       100\n",
      "\n",
      "   micro avg       0.83      0.83      0.83       268\n",
      "   macro avg       0.82      0.81      0.82       268\n",
      "weighted avg       0.83      0.83      0.83       268\n",
      "\n",
      "Accuracy on Training set: 0.844\n",
      "Accuracy on Test set: 0.828\n"
     ]
    }
   ],
   "source": [
    "from sklearn.metrics import classification_report# roc, fl_score, recall_socre ..\n",
    "\n",
    "grid_predictions = grid_svc.predict(X_test)\n",
    "# Precision, Recall, F1-score 등을 확인할 수 있습니다.(support ; y_test data 개수)\n",
    "print(classification_report(y_test, grid_predictions))\n",
    "\n",
    "    \n",
    "print(\"Accuracy on Training set: {:.3f}\".format(grid_svc.score(X_train, y_train)))\n",
    "print(\"Accuracy on Test set: {:.3f}\".format(grid_svc.score(X_test, y_test)))\n"
   ]
  },
  {
   "cell_type": "markdown",
   "metadata": {},
   "source": [
    "### 3-4 LogisticRegression"
   ]
  },
  {
   "cell_type": "code",
   "execution_count": 122,
   "metadata": {},
   "outputs": [
    {
     "name": "stdout",
     "output_type": "stream",
     "text": [
      "Accuracy:  0.8246268656716418\n"
     ]
    }
   ],
   "source": [
    "from sklearn import datasets, model_selection, linear_model\n",
    "from sklearn.metrics import accuracy_score, roc_curve, auc\n",
    "from sklearn.metrics import classification_report\n",
    "\n",
    "model = linear_model.LogisticRegression()\n",
    "# 4. Train the model\n",
    "model.fit(X_train, y_train)\n",
    "# 5. Test the model\n",
    "print('Accuracy: ', accuracy_score(model.predict(X_test), y_test))\n"
   ]
  },
  {
   "cell_type": "code",
   "execution_count": 123,
   "metadata": {},
   "outputs": [
    {
     "data": {
      "image/png": "[encoded data removed]",
      "text/plain": [
       "<Figure size 720x720 with 1 Axes>"
      ]
     },
     "metadata": {
      "needs_background": "light"
     },
     "output_type": "display_data"
    }
   ],
   "source": [
    "# 6. Visualize the model\n",
    "pred_test = model.predict_proba(X_test) # Predict 'probability'\n",
    "fpr, tpr, _ = roc_curve(y_true=y_test, y_score=pred_test[:,1]) # real y & predicted y (based on \"Sepal width\")\n",
    "roc_auc = auc(fpr, tpr) # AUC 면적의 값 (수치)\n",
    "plt.figure(figsize=(10, 10))\n",
    "plt.plot(fpr, tpr, color='darkorange', lw=2, label='ROC curve (area = %0.2f)' % roc_auc)\n",
    "plt.plot([0, 1], [0, 1], color='navy', lw=2, linestyle='--')\n",
    "plt.xlim([0.0, 1.0])\n",
    "plt.ylim([0.0, 1.05])\n",
    "plt.xlabel('False Positive Rate')\n",
    "plt.ylabel('True Positive Rate')\n",
    "plt.legend(loc=\"lower right\")\n",
    "plt.title(\"ROC curve\")\n",
    "plt.show()"
   ]
  },
  {
   "cell_type": "code",
   "execution_count": 124,
   "metadata": {},
   "outputs": [
    {
     "name": "stdout",
     "output_type": "stream",
     "text": [
      "              precision    recall  f1-score   support\n",
      "\n",
      "           0       0.86      0.86      0.86       168\n",
      "           1       0.76      0.77      0.77       100\n",
      "\n",
      "   micro avg       0.82      0.82      0.82       268\n",
      "   macro avg       0.81      0.81      0.81       268\n",
      "weighted avg       0.82      0.82      0.82       268\n",
      "\n",
      "Accuracy on Training set: 0.838\n",
      "Accuracy on Test set: 0.825\n"
     ]
    }
   ],
   "source": [
    "## Precision, Recall, F1-score\n",
    "predictions = model.predict(X_test)\n",
    "print(classification_report(y_test, predictions)) # Precision, Recall, F1-score 등을 확인할 수 있습니다.\n",
    "print(\"Accuracy on Training set: {:.3f}\".format(model.score(X_train, y_train)))\n",
    "print(\"Accuracy on Test set: {:.3f}\".format(model.score(X_test, y_test)))"
   ]
  },
  {
   "cell_type": "markdown",
   "metadata": {},
   "source": [
    "### 3-5 KNN"
   ]
  },
  {
   "cell_type": "code",
   "execution_count": null,
   "metadata": {},
   "outputs": [],
   "source": [
    "#KNN\n",
    "import matplotlib\n",
    "from matplotlib.colors import ListedColormap\n",
    "from sklearn import neighbors, datasets\n",
    "\n",
    "#Knn모델 형성\n",
    "model = neighbors.KNeighborsClassifier(20) # K-Neighbors & 클러스터 분류 (Classifier)\n",
    "\n",
    "\n",
    "#객체 학습 (7:3)\n",
    "from sklearn.model_selection import train_test_split\n",
    "X_train, X_test, y_train, y_test = train_test_split(array_data, array_target, test_size = 0.3, random_state=0)\n",
    "\n",
    "model.fit(X_train, y_train)\n",
    "\n",
    "\n",
    "\n",
    "# GridSearchCV로 최적값 찾기(실행시키면 15분 이상 걸립니다...)\n",
    "from sklearn.model_selection import GridSearchCV\n",
    "from sklearn.ensemble import GradientBoostingClassifier\n",
    "from sklearn import ensemble\n",
    "# 아래 param_grid dict 의 C & gamma 에 후보 Hyper-params 값들을 리스트업합니다.\n",
    "#svc(parameter) ; parmeter 그대로 ‘str’ 잘 써줘야함\n",
    "param_grid = {'n_estimators': [50,100,200, 500, 1000],#[100,500,1000]\n",
    "             'max_depth' : [3, 4, 5, 6, 7],#[4,6,8]\n",
    "             'min_samples_split' : [5, 7, 10], #‘subsample’: [0.9, 0.5, 0.2],\n",
    "             'learning_rate': [0.01,0.02,0.03] }# [0.01,0.1]\n",
    "#@https://scikit-learn.org/stable/modules/generated/sklearn.ensemble.GradientBoostingClassifier.html\n",
    "                    #estimator=clt\n",
    "grid = GridSearchCV (ensemble. GradientBoostingClassifier(), param_grid, refit=True, verbose=1)\n",
    "grid.fit(X_train, y_train)\n",
    "print(\"The best parameters are \", grid.best_params_)\n",
    "print(\"The best parameters are \", grid.best_score_)\n",
    "print(\"The best parameters are \", grid.best_estimator_)\n",
    "# 결과값\n",
    "# Fitting 3 folds for each of 225 candidates, totalling 675 fits\n",
    "# [Parallel(n_jobs=1)]: Using backend SequentialBackend with 1 concurrent workers.\n",
    "# [Parallel(n_jobs=1)]: Done 675 out of 675 | elapsed: 27.6min finished\n",
    "# The best parameters are  {'learning_rate': 0.02, 'max_depth': 4, 'min_samples_split': 5, 'n_estimators': 100}\n",
    "# The best parameters are  0.8426966292134831\n",
    "# The best parameters are  GradientBoostingClassifier(criterion='friedman_mse', init=None,\n",
    "#               learning_rate=0.02, loss='deviance', max_depth=4,\n",
    "#               max_features=None, max_leaf_nodes=None,\n",
    "#               min_impurity_decrease=0.0, min_impurity_split=None,\n",
    "#               min_samples_leaf=1, min_samples_split=5,\n",
    "#               min_weight_fraction_leaf=0.0, n_estimators=100,\n",
    "#               n_iter_no_change=None, presort='auto', random_state=None,\n",
    "#               subsample=1.0, tol=0.0001, validation_fraction=0.1,\n",
    "#               verbose=0, warm_start=False)\n",
    "\n",
    "\n",
    "\n",
    "# 그래프로 K값이 몇일때 가장 높은지 확인.\n",
    "import matplotlib.pyplot as plt\n",
    "k_list = range(1,101)\n",
    "accuracies = []\n",
    "for k in k_list:\n",
    "    classifier = neighbors.KNeighborsClassifier(n_neighbors = k)\n",
    "    classifier.fit(X_train, y_train)\n",
    "    accuracies.append(classifier.score(X_test, y_test))\n",
    "plt.plot(k_list, accuracies)\n",
    "plt.xlabel(\"k\")\n",
    "plt.ylabel(\"Validation Accuracy\")\n",
    "plt.title(\"Breast Cancer Classifier Accuracy\")\n",
    "plt.show()"
   ]
  },
  {
   "cell_type": "code",
   "execution_count": null,
   "metadata": {},
   "outputs": [],
   "source": [
    "#성능평가 accuracy\n",
    "print(model.score(X_test, y_test))"
   ]
  },
  {
   "cell_type": "markdown",
   "metadata": {},
   "source": [
    "<br>\n",
    "\n",
    "## 5. Predict on test data & Check the result with metrics (모델 간 비교가 가능합니다.)"
   ]
  },
  {
   "cell_type": "code",
   "execution_count": 126,
   "metadata": {},
   "outputs": [
    {
     "data": {
      "image/png": "[encoded data removed]",
      "text/plain": [
       "<Figure size 720x720 with 1 Axes>"
      ]
     },
     "metadata": {
      "needs_background": "light"
     },
     "output_type": "display_data"
    }
   ],
   "source": [
    "from sklearn.metrics import roc_curve, auc\n",
    "\n",
    "fpr, tpr, _ = roc_curve(y_true=y_test, y_score=grid.predict_proba(X_test)[:,1]) # real y & predicted y (based on \"Sepal width\")\n",
    "roc_auc = auc(fpr, tpr) # AUC 면적의 값 (수치)\n",
    "\n",
    "plt.figure(figsize=(10, 10))\n",
    "plt.plot(fpr, tpr, color='darkorange', lw=2, label='ROC curve (area = %0.2f)' % roc_auc)\n",
    "plt.plot([0, 1], [0, 1], color='navy', lw=2, linestyle='--')\n",
    "\n",
    "plt.xlim([0.0, 1.0])\n",
    "plt.ylim([0.0, 1.05])\n",
    "plt.xlabel('False Positive Rate')\n",
    "plt.ylabel('True Positive Rate')\n",
    "plt.legend(loc=\"lower right\")\n",
    "plt.title(\"ROC curve\")\n",
    "plt.show()"
   ]
  },
  {
   "cell_type": "code",
   "execution_count": null,
   "metadata": {},
   "outputs": [],
   "source": []
  }
 ],
 "metadata": {
  "accelerator": "GPU",
  "colab": {
   "name": "Titanic with XGBoost.ipynb",
   "provenance": [],
   "version": "0.3.2"
  },
  "kernelspec": {
   "display_name": "Python 3",
   "language": "python",
   "name": "python3"
  },
  "language_info": {
   "codemirror_mode": {
    "name": "ipython",
    "version": 3
   },
   "file_extension": ".py",
   "mimetype": "text/x-python",
   "name": "python",
   "nbconvert_exporter": "python",
   "pygments_lexer": "ipython3",
   "version": "3.7.3"
  }
 },
 "nbformat": 4,
 "nbformat_minor": 1
}
